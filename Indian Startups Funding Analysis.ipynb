{
 "cells": [
  {
   "cell_type": "markdown",
   "id": "249dd66f",
   "metadata": {
    "id": "z3vQPY1CGiCk",
    "papermill": {
     "duration": 0.032619,
     "end_time": "2023-08-09T08:52:20.067099",
     "exception": false,
     "start_time": "2023-08-09T08:52:20.034480",
     "status": "completed"
    },
    "tags": []
   },
   "source": [
    "# <center>**Case Study - Startup Dataset**</center>"
   ]
  },
  {
   "cell_type": "markdown",
   "id": "5eaa4ce5",
   "metadata": {
    "id": "njxXvTPaGnl5",
    "papermill": {
     "duration": 0.031494,
     "end_time": "2023-08-09T08:52:20.130979",
     "exception": false,
     "start_time": "2023-08-09T08:52:20.099485",
     "status": "completed"
    },
    "tags": []
   },
   "source": [
    "**This dataset has funding information of the Indian startups from January 2015 to October 2020.**\n",
    "\n",
    "**Feature Details :**\n",
    "\n",
    "**SNo** - Serial number.\n",
    "\n",
    "**Date** - Date of funding in format DD/MM/YYYY.\n",
    "\n",
    "**StartupName** - Name of the startup which got funded.\n",
    "\n",
    "**IndustryVertical** - Industry to which the startup belongs.\n",
    "\n",
    "**SubVertical** - Sub-category of the industry type.\n",
    "\n",
    "**CityLocation** - City which the startup is based out of.\n",
    "\n",
    "**InvestorsName** - Name of the investors involved in the funding round.\n",
    "\n",
    "**InvestmentType** - Either Private Equity or Seed Funding.\n",
    "\n",
    "**AmountInUSD** - Funding Amount in USD.\n",
    "\n",
    "**Remarks** - Other information, if any.\n"
   ]
  },
  {
   "cell_type": "code",
   "execution_count": 153,
   "id": "c58821a1",
   "metadata": {
    "execution": {
     "iopub.execute_input": "2023-08-09T08:52:20.200364Z",
     "iopub.status.busy": "2023-08-09T08:52:20.199467Z",
     "iopub.status.idle": "2023-08-09T08:52:21.685954Z",
     "shell.execute_reply": "2023-08-09T08:52:21.684682Z"
    },
    "id": "vuSbJ5YoGWub",
    "papermill": {
     "duration": 1.524042,
     "end_time": "2023-08-09T08:52:21.689068",
     "exception": false,
     "start_time": "2023-08-09T08:52:20.165026",
     "status": "completed"
    },
    "tags": []
   },
   "outputs": [],
   "source": [
    "import pandas as pd\n",
    "import numpy as np\n",
    "import matplotlib.pyplot as plt\n",
    "import seaborn as sns"
   ]
  },
  {
   "cell_type": "code",
   "execution_count": 154,
   "id": "1c5840df",
   "metadata": {
    "execution": {
     "iopub.execute_input": "2023-08-09T08:52:21.756723Z",
     "iopub.status.busy": "2023-08-09T08:52:21.756263Z",
     "iopub.status.idle": "2023-08-09T08:52:21.819838Z",
     "shell.execute_reply": "2023-08-09T08:52:21.818694Z"
    },
    "id": "Td8b557mJYPT",
    "papermill": {
     "duration": 0.101191,
     "end_time": "2023-08-09T08:52:21.822918",
     "exception": false,
     "start_time": "2023-08-09T08:52:21.721727",
     "status": "completed"
    },
    "tags": []
   },
   "outputs": [],
   "source": [
    "df = pd.read_csv('startup_funding.csv')"
   ]
  },
  {
   "cell_type": "code",
   "execution_count": 155,
   "id": "70524b25",
   "metadata": {
    "execution": {
     "iopub.execute_input": "2023-08-09T08:52:21.890717Z",
     "iopub.status.busy": "2023-08-09T08:52:21.890264Z",
     "iopub.status.idle": "2023-08-09T08:52:21.917463Z",
     "shell.execute_reply": "2023-08-09T08:52:21.916244Z"
    },
    "id": "gArskThPJs7_",
    "outputId": "fd988175-ba45-4fa2-db38-ba57e6f2aa73",
    "papermill": {
     "duration": 0.064397,
     "end_time": "2023-08-09T08:52:21.920302",
     "exception": false,
     "start_time": "2023-08-09T08:52:21.855905",
     "status": "completed"
    },
    "tags": []
   },
   "outputs": [
    {
     "data": {
      "text/html": [
       "<div>\n",
       "<style scoped>\n",
       "    .dataframe tbody tr th:only-of-type {\n",
       "        vertical-align: middle;\n",
       "    }\n",
       "\n",
       "    .dataframe tbody tr th {\n",
       "        vertical-align: top;\n",
       "    }\n",
       "\n",
       "    .dataframe thead th {\n",
       "        text-align: right;\n",
       "    }\n",
       "</style>\n",
       "<table border=\"1\" class=\"dataframe\">\n",
       "  <thead>\n",
       "    <tr style=\"text-align: right;\">\n",
       "      <th></th>\n",
       "      <th>Sr No</th>\n",
       "      <th>Date dd/mm/yyyy</th>\n",
       "      <th>Startup Name</th>\n",
       "      <th>Industry Vertical</th>\n",
       "      <th>SubVertical</th>\n",
       "      <th>City  Location</th>\n",
       "      <th>Investors Name</th>\n",
       "      <th>InvestmentnType</th>\n",
       "      <th>Amount in USD</th>\n",
       "      <th>Remarks</th>\n",
       "    </tr>\n",
       "  </thead>\n",
       "  <tbody>\n",
       "    <tr>\n",
       "      <th>0</th>\n",
       "      <td>1</td>\n",
       "      <td>09/01/2020</td>\n",
       "      <td>BYJU’S</td>\n",
       "      <td>E-Tech</td>\n",
       "      <td>E-learning</td>\n",
       "      <td>Bengaluru</td>\n",
       "      <td>Tiger Global Management</td>\n",
       "      <td>Private Equity Round</td>\n",
       "      <td>20,00,00,000</td>\n",
       "      <td>NaN</td>\n",
       "    </tr>\n",
       "    <tr>\n",
       "      <th>1</th>\n",
       "      <td>2</td>\n",
       "      <td>13/01/2020</td>\n",
       "      <td>Shuttl</td>\n",
       "      <td>Transportation</td>\n",
       "      <td>App based shuttle service</td>\n",
       "      <td>Gurgaon</td>\n",
       "      <td>Susquehanna Growth Equity</td>\n",
       "      <td>Series C</td>\n",
       "      <td>80,48,394</td>\n",
       "      <td>NaN</td>\n",
       "    </tr>\n",
       "    <tr>\n",
       "      <th>2</th>\n",
       "      <td>3</td>\n",
       "      <td>09/01/2020</td>\n",
       "      <td>Mamaearth</td>\n",
       "      <td>E-commerce</td>\n",
       "      <td>Retailer of baby and toddler products</td>\n",
       "      <td>Bengaluru</td>\n",
       "      <td>Sequoia Capital India</td>\n",
       "      <td>Series B</td>\n",
       "      <td>1,83,58,860</td>\n",
       "      <td>NaN</td>\n",
       "    </tr>\n",
       "    <tr>\n",
       "      <th>3</th>\n",
       "      <td>4</td>\n",
       "      <td>02/01/2020</td>\n",
       "      <td>https://www.wealthbucket.in/</td>\n",
       "      <td>FinTech</td>\n",
       "      <td>Online Investment</td>\n",
       "      <td>New Delhi</td>\n",
       "      <td>Vinod Khatumal</td>\n",
       "      <td>Pre-series A</td>\n",
       "      <td>30,00,000</td>\n",
       "      <td>NaN</td>\n",
       "    </tr>\n",
       "    <tr>\n",
       "      <th>4</th>\n",
       "      <td>5</td>\n",
       "      <td>02/01/2020</td>\n",
       "      <td>Fashor</td>\n",
       "      <td>Fashion and Apparel</td>\n",
       "      <td>Embroiled Clothes For Women</td>\n",
       "      <td>Mumbai</td>\n",
       "      <td>Sprout Venture Partners</td>\n",
       "      <td>Seed Round</td>\n",
       "      <td>18,00,000</td>\n",
       "      <td>NaN</td>\n",
       "    </tr>\n",
       "  </tbody>\n",
       "</table>\n",
       "</div>"
      ],
      "text/plain": [
       "   Sr No Date dd/mm/yyyy                  Startup Name    Industry Vertical  \\\n",
       "0      1      09/01/2020                        BYJU’S               E-Tech   \n",
       "1      2      13/01/2020                        Shuttl       Transportation   \n",
       "2      3      09/01/2020                     Mamaearth           E-commerce   \n",
       "3      4      02/01/2020  https://www.wealthbucket.in/              FinTech   \n",
       "4      5      02/01/2020                        Fashor  Fashion and Apparel   \n",
       "\n",
       "                             SubVertical City  Location  \\\n",
       "0                             E-learning      Bengaluru   \n",
       "1              App based shuttle service        Gurgaon   \n",
       "2  Retailer of baby and toddler products      Bengaluru   \n",
       "3                      Online Investment      New Delhi   \n",
       "4            Embroiled Clothes For Women         Mumbai   \n",
       "\n",
       "              Investors Name       InvestmentnType Amount in USD Remarks  \n",
       "0    Tiger Global Management  Private Equity Round  20,00,00,000     NaN  \n",
       "1  Susquehanna Growth Equity              Series C     80,48,394     NaN  \n",
       "2      Sequoia Capital India              Series B   1,83,58,860     NaN  \n",
       "3             Vinod Khatumal          Pre-series A     30,00,000     NaN  \n",
       "4    Sprout Venture Partners            Seed Round     18,00,000     NaN  "
      ]
     },
     "execution_count": 155,
     "metadata": {},
     "output_type": "execute_result"
    }
   ],
   "source": [
    "df.head()"
   ]
  },
  {
   "cell_type": "code",
   "execution_count": 156,
   "id": "3eaccfa6",
   "metadata": {
    "execution": {
     "iopub.execute_input": "2023-08-09T08:52:21.989361Z",
     "iopub.status.busy": "2023-08-09T08:52:21.988150Z",
     "iopub.status.idle": "2023-08-09T08:52:22.005068Z",
     "shell.execute_reply": "2023-08-09T08:52:22.003900Z"
    },
    "id": "ic3WP7HZJxba",
    "outputId": "0a1a6b74-6779-4424-ae71-22fa6f41c791",
    "papermill": {
     "duration": 0.053837,
     "end_time": "2023-08-09T08:52:22.007570",
     "exception": false,
     "start_time": "2023-08-09T08:52:21.953733",
     "status": "completed"
    },
    "tags": []
   },
   "outputs": [
    {
     "data": {
      "text/html": [
       "<div>\n",
       "<style scoped>\n",
       "    .dataframe tbody tr th:only-of-type {\n",
       "        vertical-align: middle;\n",
       "    }\n",
       "\n",
       "    .dataframe tbody tr th {\n",
       "        vertical-align: top;\n",
       "    }\n",
       "\n",
       "    .dataframe thead th {\n",
       "        text-align: right;\n",
       "    }\n",
       "</style>\n",
       "<table border=\"1\" class=\"dataframe\">\n",
       "  <thead>\n",
       "    <tr style=\"text-align: right;\">\n",
       "      <th></th>\n",
       "      <th>Sr No</th>\n",
       "      <th>Date dd/mm/yyyy</th>\n",
       "      <th>Startup Name</th>\n",
       "      <th>Industry Vertical</th>\n",
       "      <th>SubVertical</th>\n",
       "      <th>City  Location</th>\n",
       "      <th>Investors Name</th>\n",
       "      <th>InvestmentnType</th>\n",
       "      <th>Amount in USD</th>\n",
       "      <th>Remarks</th>\n",
       "    </tr>\n",
       "  </thead>\n",
       "  <tbody>\n",
       "    <tr>\n",
       "      <th>3039</th>\n",
       "      <td>3040</td>\n",
       "      <td>29/01/2015</td>\n",
       "      <td>Printvenue</td>\n",
       "      <td>NaN</td>\n",
       "      <td>NaN</td>\n",
       "      <td>NaN</td>\n",
       "      <td>Asia Pacific Internet Group</td>\n",
       "      <td>Private Equity</td>\n",
       "      <td>45,00,000</td>\n",
       "      <td>NaN</td>\n",
       "    </tr>\n",
       "    <tr>\n",
       "      <th>3040</th>\n",
       "      <td>3041</td>\n",
       "      <td>29/01/2015</td>\n",
       "      <td>Graphene</td>\n",
       "      <td>NaN</td>\n",
       "      <td>NaN</td>\n",
       "      <td>NaN</td>\n",
       "      <td>KARSEMVEN Fund</td>\n",
       "      <td>Private Equity</td>\n",
       "      <td>8,25,000</td>\n",
       "      <td>Govt backed VC Fund</td>\n",
       "    </tr>\n",
       "    <tr>\n",
       "      <th>3041</th>\n",
       "      <td>3042</td>\n",
       "      <td>30/01/2015</td>\n",
       "      <td>Mad Street Den</td>\n",
       "      <td>NaN</td>\n",
       "      <td>NaN</td>\n",
       "      <td>NaN</td>\n",
       "      <td>Exfinity Fund, GrowX Ventures.</td>\n",
       "      <td>Private Equity</td>\n",
       "      <td>15,00,000</td>\n",
       "      <td>NaN</td>\n",
       "    </tr>\n",
       "    <tr>\n",
       "      <th>3042</th>\n",
       "      <td>3043</td>\n",
       "      <td>30/01/2015</td>\n",
       "      <td>Simplotel</td>\n",
       "      <td>NaN</td>\n",
       "      <td>NaN</td>\n",
       "      <td>NaN</td>\n",
       "      <td>MakeMyTrip</td>\n",
       "      <td>Private Equity</td>\n",
       "      <td>NaN</td>\n",
       "      <td>Strategic Funding, Minority stake</td>\n",
       "    </tr>\n",
       "    <tr>\n",
       "      <th>3043</th>\n",
       "      <td>3044</td>\n",
       "      <td>31/01/2015</td>\n",
       "      <td>couponmachine.in</td>\n",
       "      <td>NaN</td>\n",
       "      <td>NaN</td>\n",
       "      <td>NaN</td>\n",
       "      <td>UK based Group of Angel Investors</td>\n",
       "      <td>Seed Funding</td>\n",
       "      <td>1,40,000</td>\n",
       "      <td>NaN</td>\n",
       "    </tr>\n",
       "  </tbody>\n",
       "</table>\n",
       "</div>"
      ],
      "text/plain": [
       "      Sr No Date dd/mm/yyyy      Startup Name Industry Vertical SubVertical  \\\n",
       "3039   3040      29/01/2015        Printvenue               NaN         NaN   \n",
       "3040   3041      29/01/2015          Graphene               NaN         NaN   \n",
       "3041   3042      30/01/2015    Mad Street Den               NaN         NaN   \n",
       "3042   3043      30/01/2015         Simplotel               NaN         NaN   \n",
       "3043   3044      31/01/2015  couponmachine.in               NaN         NaN   \n",
       "\n",
       "     City  Location                     Investors Name InvestmentnType  \\\n",
       "3039            NaN        Asia Pacific Internet Group  Private Equity   \n",
       "3040            NaN                     KARSEMVEN Fund  Private Equity   \n",
       "3041            NaN     Exfinity Fund, GrowX Ventures.  Private Equity   \n",
       "3042            NaN                         MakeMyTrip  Private Equity   \n",
       "3043            NaN  UK based Group of Angel Investors    Seed Funding   \n",
       "\n",
       "     Amount in USD                            Remarks  \n",
       "3039     45,00,000                                NaN  \n",
       "3040      8,25,000                Govt backed VC Fund  \n",
       "3041     15,00,000                                NaN  \n",
       "3042           NaN  Strategic Funding, Minority stake  \n",
       "3043      1,40,000                                NaN  "
      ]
     },
     "execution_count": 156,
     "metadata": {},
     "output_type": "execute_result"
    }
   ],
   "source": [
    "df.tail()"
   ]
  },
  {
   "cell_type": "code",
   "execution_count": 157,
   "id": "c39ca8a5",
   "metadata": {
    "execution": {
     "iopub.execute_input": "2023-08-09T08:52:22.076215Z",
     "iopub.status.busy": "2023-08-09T08:52:22.075762Z",
     "iopub.status.idle": "2023-08-09T08:52:22.114026Z",
     "shell.execute_reply": "2023-08-09T08:52:22.112871Z"
    },
    "id": "57HfvzYYZH2V",
    "outputId": "14e6bbbd-80df-47c0-a2c5-139ec8abf962",
    "papermill": {
     "duration": 0.076706,
     "end_time": "2023-08-09T08:52:22.117359",
     "exception": false,
     "start_time": "2023-08-09T08:52:22.040653",
     "status": "completed"
    },
    "tags": []
   },
   "outputs": [
    {
     "name": "stdout",
     "output_type": "stream",
     "text": [
      "<class 'pandas.core.frame.DataFrame'>\n",
      "RangeIndex: 3044 entries, 0 to 3043\n",
      "Data columns (total 10 columns):\n",
      " #   Column             Non-Null Count  Dtype \n",
      "---  ------             --------------  ----- \n",
      " 0   Sr No              3044 non-null   int64 \n",
      " 1   Date dd/mm/yyyy    3044 non-null   object\n",
      " 2   Startup Name       3044 non-null   object\n",
      " 3   Industry Vertical  2873 non-null   object\n",
      " 4   SubVertical        2108 non-null   object\n",
      " 5   City  Location     2864 non-null   object\n",
      " 6   Investors Name     3020 non-null   object\n",
      " 7   InvestmentnType    3040 non-null   object\n",
      " 8   Amount in USD      2084 non-null   object\n",
      " 9   Remarks            419 non-null    object\n",
      "dtypes: int64(1), object(9)\n",
      "memory usage: 237.9+ KB\n"
     ]
    }
   ],
   "source": [
    "df.info()"
   ]
  },
  {
   "cell_type": "code",
   "execution_count": 158,
   "id": "edce22a7",
   "metadata": {
    "execution": {
     "iopub.execute_input": "2023-08-09T08:52:22.186621Z",
     "iopub.status.busy": "2023-08-09T08:52:22.185869Z",
     "iopub.status.idle": "2023-08-09T08:52:22.191464Z",
     "shell.execute_reply": "2023-08-09T08:52:22.190550Z"
    },
    "id": "VrTJSL1TTvY-",
    "papermill": {
     "duration": 0.042811,
     "end_time": "2023-08-09T08:52:22.193781",
     "exception": false,
     "start_time": "2023-08-09T08:52:22.150970",
     "status": "completed"
    },
    "tags": []
   },
   "outputs": [],
   "source": [
    "df.rename(columns = {'Date dd/mm/yyyy':'Date'}, inplace=True)"
   ]
  },
  {
   "cell_type": "code",
   "execution_count": 159,
   "id": "3c290e9d",
   "metadata": {
    "execution": {
     "iopub.execute_input": "2023-08-09T08:52:22.262657Z",
     "iopub.status.busy": "2023-08-09T08:52:22.262175Z",
     "iopub.status.idle": "2023-08-09T08:52:22.280282Z",
     "shell.execute_reply": "2023-08-09T08:52:22.279416Z"
    },
    "id": "G_leqcHNQyXq",
    "outputId": "14bb6c58-463d-4e00-ec51-2c0e5e2f6819",
    "papermill": {
     "duration": 0.055262,
     "end_time": "2023-08-09T08:52:22.282394",
     "exception": false,
     "start_time": "2023-08-09T08:52:22.227132",
     "status": "completed"
    },
    "tags": []
   },
   "outputs": [
    {
     "data": {
      "text/html": [
       "<div>\n",
       "<style scoped>\n",
       "    .dataframe tbody tr th:only-of-type {\n",
       "        vertical-align: middle;\n",
       "    }\n",
       "\n",
       "    .dataframe tbody tr th {\n",
       "        vertical-align: top;\n",
       "    }\n",
       "\n",
       "    .dataframe thead th {\n",
       "        text-align: right;\n",
       "    }\n",
       "</style>\n",
       "<table border=\"1\" class=\"dataframe\">\n",
       "  <thead>\n",
       "    <tr style=\"text-align: right;\">\n",
       "      <th></th>\n",
       "      <th>Sr No</th>\n",
       "      <th>Date</th>\n",
       "      <th>Startup Name</th>\n",
       "      <th>Industry Vertical</th>\n",
       "      <th>SubVertical</th>\n",
       "      <th>City  Location</th>\n",
       "      <th>Investors Name</th>\n",
       "      <th>InvestmentnType</th>\n",
       "      <th>Amount in USD</th>\n",
       "      <th>Remarks</th>\n",
       "    </tr>\n",
       "  </thead>\n",
       "  <tbody>\n",
       "    <tr>\n",
       "      <th>192</th>\n",
       "      <td>193</td>\n",
       "      <td>05/072018</td>\n",
       "      <td>Loan Tap</td>\n",
       "      <td>Consumer Internet</td>\n",
       "      <td>Online Lending Platform For Salaried Professio...</td>\n",
       "      <td>Mumbai</td>\n",
       "      <td>Shunwei Capital, Tuscan Ventures, Ashish Goenk...</td>\n",
       "      <td>Private Equity</td>\n",
       "      <td>62,50,000</td>\n",
       "      <td>NaN</td>\n",
       "    </tr>\n",
       "  </tbody>\n",
       "</table>\n",
       "</div>"
      ],
      "text/plain": [
       "     Sr No       Date Startup Name  Industry Vertical  \\\n",
       "192    193  05/072018     Loan Tap  Consumer Internet   \n",
       "\n",
       "                                           SubVertical City  Location  \\\n",
       "192  Online Lending Platform For Salaried Professio...         Mumbai   \n",
       "\n",
       "                                        Investors Name InvestmentnType  \\\n",
       "192  Shunwei Capital, Tuscan Ventures, Ashish Goenk...  Private Equity   \n",
       "\n",
       "    Amount in USD Remarks  \n",
       "192     62,50,000     NaN  "
      ]
     },
     "execution_count": 159,
     "metadata": {},
     "output_type": "execute_result"
    }
   ],
   "source": [
    "df[df.Date == '05/072018']"
   ]
  },
  {
   "cell_type": "code",
   "execution_count": 160,
   "id": "ed40d2a8",
   "metadata": {
    "execution": {
     "iopub.execute_input": "2023-08-09T08:52:22.354112Z",
     "iopub.status.busy": "2023-08-09T08:52:22.353143Z",
     "iopub.status.idle": "2023-08-09T08:52:22.358854Z",
     "shell.execute_reply": "2023-08-09T08:52:22.357804Z"
    },
    "id": "jVdVWBH4OJjM",
    "papermill": {
     "duration": 0.043737,
     "end_time": "2023-08-09T08:52:22.361597",
     "exception": false,
     "start_time": "2023-08-09T08:52:22.317860",
     "status": "completed"
    },
    "tags": []
   },
   "outputs": [],
   "source": [
    "#correcting the value at 192 position in Date column\n",
    "#As while converting it into date time format, got an error\n",
    "#Because date was in \"05/072018\" this format, hence corrected it.\n",
    "\n",
    "df.loc[192,'Date'] = '05/07/2018'"
   ]
  },
  {
   "cell_type": "code",
   "execution_count": 161,
   "id": "b6248e91",
   "metadata": {
    "execution": {
     "iopub.execute_input": "2023-08-09T08:52:22.433145Z",
     "iopub.status.busy": "2023-08-09T08:52:22.432726Z",
     "iopub.status.idle": "2023-08-09T08:52:22.439747Z",
     "shell.execute_reply": "2023-08-09T08:52:22.438671Z"
    },
    "id": "1Km3GObHOJei",
    "outputId": "85ba725c-0e82-4d62-be90-47355117cefd",
    "papermill": {
     "duration": 0.045276,
     "end_time": "2023-08-09T08:52:22.442586",
     "exception": false,
     "start_time": "2023-08-09T08:52:22.397310",
     "status": "completed"
    },
    "tags": []
   },
   "outputs": [
    {
     "data": {
      "text/plain": [
       "'08/04/2017'"
      ]
     },
     "execution_count": 161,
     "metadata": {},
     "output_type": "execute_result"
    }
   ],
   "source": [
    "df.loc[875,'Date']"
   ]
  },
  {
   "cell_type": "code",
   "execution_count": 162,
   "id": "20c3f698",
   "metadata": {
    "execution": {
     "iopub.execute_input": "2023-08-09T08:52:22.513822Z",
     "iopub.status.busy": "2023-08-09T08:52:22.513097Z",
     "iopub.status.idle": "2023-08-09T08:52:22.547188Z",
     "shell.execute_reply": "2023-08-09T08:52:22.545919Z"
    },
    "id": "GSSBdh3gOJSm",
    "outputId": "0e0909ad-ad5c-4e23-cae6-ee526089f15e",
    "papermill": {
     "duration": 0.072903,
     "end_time": "2023-08-09T08:52:22.550125",
     "exception": false,
     "start_time": "2023-08-09T08:52:22.477222",
     "status": "completed"
    },
    "tags": []
   },
   "outputs": [],
   "source": [
    "#Using errors = coerce because while converting it to data time format, got an error\n",
    "#OutOfBoundsDatetime: Out of bounds nanosecond timestamp: 15-01-07 00:00:00 present at position 875\n",
    "#Therefore errors = coerce will handle/replace any values that cannot be converted to valid timestamps to NAT(not a time)\n",
    "\n",
    "df['Date'] = pd.to_datetime(df['Date'], errors='coerce')"
   ]
  },
  {
   "cell_type": "code",
   "execution_count": 163,
   "id": "ade7d2db",
   "metadata": {
    "execution": {
     "iopub.execute_input": "2023-08-09T08:52:22.622666Z",
     "iopub.status.busy": "2023-08-09T08:52:22.621573Z",
     "iopub.status.idle": "2023-08-09T08:52:22.644087Z",
     "shell.execute_reply": "2023-08-09T08:52:22.642663Z"
    },
    "id": "f5uWlqAYOJQF",
    "outputId": "53a19d27-e315-4efb-ee0c-731661046a06",
    "papermill": {
     "duration": 0.0612,
     "end_time": "2023-08-09T08:52:22.646539",
     "exception": false,
     "start_time": "2023-08-09T08:52:22.585339",
     "status": "completed"
    },
    "tags": []
   },
   "outputs": [
    {
     "name": "stdout",
     "output_type": "stream",
     "text": [
      "<class 'pandas.core.frame.DataFrame'>\n",
      "RangeIndex: 3044 entries, 0 to 3043\n",
      "Data columns (total 10 columns):\n",
      " #   Column             Non-Null Count  Dtype         \n",
      "---  ------             --------------  -----         \n",
      " 0   Sr No              3044 non-null   int64         \n",
      " 1   Date               3041 non-null   datetime64[ns]\n",
      " 2   Startup Name       3044 non-null   object        \n",
      " 3   Industry Vertical  2873 non-null   object        \n",
      " 4   SubVertical        2108 non-null   object        \n",
      " 5   City  Location     2864 non-null   object        \n",
      " 6   Investors Name     3020 non-null   object        \n",
      " 7   InvestmentnType    3040 non-null   object        \n",
      " 8   Amount in USD      2084 non-null   object        \n",
      " 9   Remarks            419 non-null    object        \n",
      "dtypes: datetime64[ns](1), int64(1), object(8)\n",
      "memory usage: 237.9+ KB\n"
     ]
    }
   ],
   "source": [
    "#Here column named \"Date dd/mm/yyyy\" is changed to \"Date\" for simplicity purpose.\n",
    "#The Dtype of \"Date\" column is changed from to \"datetime64[ns]\" format, so that specific operations can be perfomed.\n",
    "#During this converion we have lost 3 value i.e, from 3044 non full entries to 3041 enties only.\n",
    "#All those lost values were OutOfBoundsDatetime values which was handled by \"errors='coerce'\" in the above code\n",
    "\n",
    "df.info()"
   ]
  },
  {
   "cell_type": "markdown",
   "id": "cd75afe9",
   "metadata": {
    "id": "twQ8GxS4a631",
    "papermill": {
     "duration": 0.034494,
     "end_time": "2023-08-09T08:52:22.715287",
     "exception": false,
     "start_time": "2023-08-09T08:52:22.680793",
     "status": "completed"
    },
    "tags": []
   },
   "source": [
    "**Insights -**\n",
    "\n",
    "1) Find out what type of startups are getting funded in the last few years?\n",
    "\n",
    "2) Who are the important investors?\n",
    "\n",
    "3) What are the hot fields that get a lot of funding these days?\n"
   ]
  },
  {
   "cell_type": "markdown",
   "id": "e7b2e7b4",
   "metadata": {
    "id": "oI9iSFONkoK1",
    "papermill": {
     "duration": 0.033203,
     "end_time": "2023-08-09T08:52:22.782066",
     "exception": false,
     "start_time": "2023-08-09T08:52:22.748863",
     "status": "completed"
    },
    "tags": []
   },
   "source": [
    "**1) Find out what type of startups are getting funded in the last few years?**"
   ]
  },
  {
   "cell_type": "code",
   "execution_count": 164,
   "id": "00750801",
   "metadata": {
    "execution": {
     "iopub.execute_input": "2023-08-09T08:52:22.851841Z",
     "iopub.status.busy": "2023-08-09T08:52:22.851342Z",
     "iopub.status.idle": "2023-08-09T08:52:22.859193Z",
     "shell.execute_reply": "2023-08-09T08:52:22.857975Z"
    },
    "id": "02b4C3fwOJIV",
    "papermill": {
     "duration": 0.046162,
     "end_time": "2023-08-09T08:52:22.862003",
     "exception": false,
     "start_time": "2023-08-09T08:52:22.815841",
     "status": "completed"
    },
    "tags": []
   },
   "outputs": [],
   "source": [
    "df['Year'] = df['Date'].dt.year"
   ]
  },
  {
   "cell_type": "code",
   "execution_count": 165,
   "id": "7610c5f6",
   "metadata": {
    "execution": {
     "iopub.execute_input": "2023-08-09T08:52:22.933710Z",
     "iopub.status.busy": "2023-08-09T08:52:22.932805Z",
     "iopub.status.idle": "2023-08-09T08:52:22.943512Z",
     "shell.execute_reply": "2023-08-09T08:52:22.942577Z"
    },
    "id": "MXdC5Hh8SGPe",
    "papermill": {
     "duration": 0.049431,
     "end_time": "2023-08-09T08:52:22.946165",
     "exception": false,
     "start_time": "2023-08-09T08:52:22.896734",
     "status": "completed"
    },
    "tags": []
   },
   "outputs": [],
   "source": [
    "# Ecommerce is the right word in IndustryVertical, so correcting it.\n",
    "df['Industry Vertical']=df['Industry Vertical'].astype(str)\n",
    "df['Industry Vertical'] = df['Industry Vertical'].apply(lambda x : x.replace(x,'Ecommerce') if 'Commerce' in x else x.replace(x,'Ecommerce') if 'commerce' in x\n",
    "                                                        else x.replace(x,'FinTech') if 'Fin-Tech' in x else x)"
   ]
  },
  {
   "cell_type": "code",
   "execution_count": 166,
   "id": "ba71dcd6",
   "metadata": {
    "execution": {
     "iopub.execute_input": "2023-08-09T08:52:23.017208Z",
     "iopub.status.busy": "2023-08-09T08:52:23.016330Z",
     "iopub.status.idle": "2023-08-09T08:52:23.024972Z",
     "shell.execute_reply": "2023-08-09T08:52:23.023853Z"
    },
    "id": "Jpg4dFKkOJED",
    "papermill": {
     "duration": 0.047421,
     "end_time": "2023-08-09T08:52:23.027758",
     "exception": false,
     "start_time": "2023-08-09T08:52:22.980337",
     "status": "completed"
    },
    "tags": []
   },
   "outputs": [],
   "source": [
    "#This dataset consist of data from year 2015 to year 2020\n",
    "#So as per the question I have assumed last 3 years to be last few years to analyze\n",
    "#for type of startups are getting funded in the last few years\n",
    "\n",
    "last_few_years = df[df['Year'].between(2018, 2020)]"
   ]
  },
  {
   "cell_type": "code",
   "execution_count": 167,
   "id": "2626fe41",
   "metadata": {
    "execution": {
     "iopub.execute_input": "2023-08-09T08:52:23.099145Z",
     "iopub.status.busy": "2023-08-09T08:52:23.098741Z",
     "iopub.status.idle": "2023-08-09T08:52:23.110284Z",
     "shell.execute_reply": "2023-08-09T08:52:23.109249Z"
    },
    "id": "XjUk0x7rOI-t",
    "outputId": "1285967c-5587-4cd7-fa91-a90fb79a4019",
    "papermill": {
     "duration": 0.049808,
     "end_time": "2023-08-09T08:52:23.112639",
     "exception": false,
     "start_time": "2023-08-09T08:52:23.062831",
     "status": "completed"
    },
    "tags": []
   },
   "outputs": [
    {
     "data": {
      "text/plain": [
       "Consumer Internet    93\n",
       "Technology           65\n",
       "Finance              45\n",
       "Ecommerce            34\n",
       "Healthcare           34\n",
       "                     ..\n",
       "Publishing            1\n",
       "Entertainment         1\n",
       "Online Education      1\n",
       "Luxury Label          1\n",
       "Consumer internet     1\n",
       "Name: Industry Vertical, Length: 83, dtype: int64"
      ]
     },
     "execution_count": 167,
     "metadata": {},
     "output_type": "execute_result"
    }
   ],
   "source": [
    "#Now Getting the count of Industry Vertical to get to know that\n",
    "#which kind of startups are igetting funded most in terms of frequency.\n",
    "#for the year in range of 2018 to 2020\n",
    "\n",
    "stp_count = last_few_years['Industry Vertical'].value_counts()\n",
    "stp_count.sort_values(ascending=False)"
   ]
  },
  {
   "cell_type": "code",
   "execution_count": 168,
   "id": "be72dade",
   "metadata": {
    "execution": {
     "iopub.execute_input": "2023-08-09T08:52:23.184576Z",
     "iopub.status.busy": "2023-08-09T08:52:23.184092Z",
     "iopub.status.idle": "2023-08-09T08:52:23.193522Z",
     "shell.execute_reply": "2023-08-09T08:52:23.192673Z"
    },
    "id": "nh5hBnZNe_mR",
    "outputId": "3e9138c3-58f7-4894-e9a2-968d2a3e2e42",
    "papermill": {
     "duration": 0.048352,
     "end_time": "2023-08-09T08:52:23.195661",
     "exception": false,
     "start_time": "2023-08-09T08:52:23.147309",
     "status": "completed"
    },
    "tags": []
   },
   "outputs": [
    {
     "data": {
      "text/plain": [
       "Consumer Internet      93\n",
       "Technology             65\n",
       "Finance                45\n",
       "Ecommerce              34\n",
       "Healthcare             34\n",
       "FinTech                15\n",
       "Ed-Tech                12\n",
       "IT                      8\n",
       "Food and Beverage       6\n",
       "Health and Wellness     5\n",
       "Name: Industry Vertical, dtype: int64"
      ]
     },
     "execution_count": 168,
     "metadata": {},
     "output_type": "execute_result"
    }
   ],
   "source": [
    "#Since there are 87 kind of industry vertical and visualizing them all together might be messier\n",
    "#Therefore only visualizing top 10 industry verticals who have higher number of frequency in geeting funded\n",
    "\n",
    "stp_count_ten = stp_count.sort_values(ascending=False).head(10)\n",
    "stp_count_ten"
   ]
  },
  {
   "cell_type": "code",
   "execution_count": 169,
   "id": "dc5a2532",
   "metadata": {
    "execution": {
     "iopub.execute_input": "2023-08-09T08:52:23.266238Z",
     "iopub.status.busy": "2023-08-09T08:52:23.265805Z",
     "iopub.status.idle": "2023-08-09T08:52:23.272324Z",
     "shell.execute_reply": "2023-08-09T08:52:23.271168Z"
    },
    "id": "pkJj_1rLn3Z3",
    "outputId": "7251207d-3fdd-493b-a62c-e7ea0bc1763b",
    "papermill": {
     "duration": 0.045493,
     "end_time": "2023-08-09T08:52:23.275624",
     "exception": false,
     "start_time": "2023-08-09T08:52:23.230131",
     "status": "completed"
    },
    "tags": []
   },
   "outputs": [
    {
     "name": "stdout",
     "output_type": "stream",
     "text": [
      "\u001b[1mList of top 10 type of startups are getting funded in the last few years --\u001b[0m\n",
      "\u001b[1m=>Consumer Internet\n",
      "\u001b[1m=>Technology\n",
      "\u001b[1m=>Finance\n",
      "\u001b[1m=>Ecommerce\n",
      "\u001b[1m=>Healthcare\n",
      "\u001b[1m=>FinTech\n",
      "\u001b[1m=>Ed-Tech\n",
      "\u001b[1m=>IT\n",
      "\u001b[1m=>Food and Beverage\n",
      "\u001b[1m=>Health and Wellness\n"
     ]
    }
   ],
   "source": [
    "bold = '\\033[1m'\n",
    "reset = '\\033[0m'\n",
    "print(f'{bold}List of top 10 type of startups are getting funded in the last few years --{reset}')\n",
    "for i in stp_count_ten.index:\n",
    "  print(f'{bold}=>{i}')"
   ]
  },
  {
   "cell_type": "code",
   "execution_count": 170,
   "id": "fe280393",
   "metadata": {
    "execution": {
     "iopub.execute_input": "2023-08-09T08:52:23.349653Z",
     "iopub.status.busy": "2023-08-09T08:52:23.348934Z",
     "iopub.status.idle": "2023-08-09T08:52:23.809076Z",
     "shell.execute_reply": "2023-08-09T08:52:23.807922Z"
    },
    "id": "py_ImxI_h7Hl",
    "outputId": "b30e5f32-7f05-4455-bab8-1c7b23f4ea02",
    "papermill": {
     "duration": 0.499012,
     "end_time": "2023-08-09T08:52:23.811657",
     "exception": false,
     "start_time": "2023-08-09T08:52:23.312645",
     "status": "completed"
    },
    "tags": []
   },
   "outputs": [
    {
     "data": {
      "text/plain": [
       "Text(0.5, 1.0, 'Industry Vertical vs Frequency of Funding')"
      ]
     },
     "execution_count": 170,
     "metadata": {},
     "output_type": "execute_result"
    },
    {
     "data": {
      "image/png": "[encoded data removed]",
      "text/plain": [
       "<Figure size 864x360 with 1 Axes>"
      ]
     },
     "metadata": {
      "needs_background": "light"
     },
     "output_type": "display_data"
    }
   ],
   "source": [
    "plt.figure(figsize=(12,5))\n",
    "sns.barplot(x=stp_count_ten.index, y=stp_count_ten, palette='plasma')\n",
    "plt.xticks(rotation=90)\n",
    "plt.yticks(stp_count_ten[0:7])\n",
    "plt.ylabel('Frequency of Funding', fontsize=12)\n",
    "plt.xlabel('Industry Vertical', fontsize=12)\n",
    "plt.title('Industry Vertical vs Frequency of Funding', fontsize=15)"
   ]
  },
  {
   "cell_type": "markdown",
   "id": "f107cd73",
   "metadata": {
    "id": "gM04Dgd3kuPz",
    "papermill": {
     "duration": 0.035431,
     "end_time": "2023-08-09T08:52:23.883893",
     "exception": false,
     "start_time": "2023-08-09T08:52:23.848462",
     "status": "completed"
    },
    "tags": []
   },
   "source": [
    "**2) Who are the important investors?**"
   ]
  },
  {
   "cell_type": "code",
   "execution_count": 171,
   "id": "204bdfd4",
   "metadata": {
    "execution": {
     "iopub.execute_input": "2023-08-09T08:52:23.957890Z",
     "iopub.status.busy": "2023-08-09T08:52:23.957448Z",
     "iopub.status.idle": "2023-08-09T08:52:23.969213Z",
     "shell.execute_reply": "2023-08-09T08:52:23.968027Z"
    },
    "id": "TSsRHlZGkkeA",
    "outputId": "c6c7b6e0-ae98-421b-ed16-f52eeea552f7",
    "papermill": {
     "duration": 0.052162,
     "end_time": "2023-08-09T08:52:23.971704",
     "exception": false,
     "start_time": "2023-08-09T08:52:23.919542",
     "status": "completed"
    },
    "tags": []
   },
   "outputs": [
    {
     "data": {
      "text/plain": [
       "Tiger Global Management                                  4\n",
       "Alteria Capital                                          3\n",
       "Naspers                                                  2\n",
       "Nexus Venture Partners                                   2\n",
       "Sunil Munjal, Harsh Mariwala, Dalip Pathak and Others    2\n",
       "                                                        ..\n",
       "Fosun International                                      1\n",
       "Credence Family Office                                   1\n",
       "ZigExN                                                   1\n",
       "Ravi Viswanathan                                         1\n",
       "HDFC Bank, Axis Bank                                     1\n",
       "Name: Investors Name, Length: 392, dtype: int64"
      ]
     },
     "execution_count": 171,
     "metadata": {},
     "output_type": "execute_result"
    }
   ],
   "source": [
    "#In order to know who are the important investors, whose frquency of funding is\n",
    "#more then the other investors in last few years (2018-2020)\n",
    "\n",
    "last_few_years['Investors Name'].value_counts()"
   ]
  },
  {
   "cell_type": "code",
   "execution_count": 172,
   "id": "6ca2d641",
   "metadata": {
    "execution": {
     "iopub.execute_input": "2023-08-09T08:52:24.046057Z",
     "iopub.status.busy": "2023-08-09T08:52:24.045617Z",
     "iopub.status.idle": "2023-08-09T08:52:24.056850Z",
     "shell.execute_reply": "2023-08-09T08:52:24.055658Z"
    },
    "id": "E4W5Jaulkkag",
    "outputId": "cd042e46-d026-476f-82ec-9c33fb89489f",
    "papermill": {
     "duration": 0.051257,
     "end_time": "2023-08-09T08:52:24.059476",
     "exception": false,
     "start_time": "2023-08-09T08:52:24.008219",
     "status": "completed"
    },
    "tags": []
   },
   "outputs": [
    {
     "data": {
      "text/plain": [
       "Tiger Global Management    4\n",
       "Alteria Capital            3\n",
       "SoftBank Vision Fund       2\n",
       "March Capital Partners     2\n",
       "Trifecta Capital           2\n",
       "Name: Investors Name, dtype: int64"
      ]
     },
     "execution_count": 172,
     "metadata": {},
     "output_type": "execute_result"
    }
   ],
   "source": [
    "#Top five name of the investors in year between 2018-2020\n",
    "\n",
    "in_count_ten = last_few_years['Investors Name'].value_counts().sort_values(ascending=False).head(5)\n",
    "in_count_ten"
   ]
  },
  {
   "cell_type": "code",
   "execution_count": 173,
   "id": "3c87092b",
   "metadata": {
    "execution": {
     "iopub.execute_input": "2023-08-09T08:52:24.134561Z",
     "iopub.status.busy": "2023-08-09T08:52:24.133740Z",
     "iopub.status.idle": "2023-08-09T08:52:24.140682Z",
     "shell.execute_reply": "2023-08-09T08:52:24.139193Z"
    },
    "id": "4tL3e3txpQYa",
    "outputId": "2cfa336f-1b5f-47a0-ce34-fcec60f575d9",
    "papermill": {
     "duration": 0.047216,
     "end_time": "2023-08-09T08:52:24.143187",
     "exception": false,
     "start_time": "2023-08-09T08:52:24.095971",
     "status": "completed"
    },
    "tags": []
   },
   "outputs": [
    {
     "name": "stdout",
     "output_type": "stream",
     "text": [
      "\u001b[1mList of  the important investors --\u001b[0m\n",
      "\u001b[1m=>Tiger Global Management\n",
      "\u001b[1m=>Alteria Capital\n",
      "\u001b[1m=>SoftBank Vision Fund\n",
      "\u001b[1m=>March Capital Partners\n",
      "\u001b[1m=>Trifecta Capital\n"
     ]
    }
   ],
   "source": [
    "bold = '\\033[1m'\n",
    "reset = '\\033[0m'\n",
    "print(f'{bold}List of  the important investors --{reset}')\n",
    "for j in in_count_ten.index:\n",
    "  print(f'{bold}=>{j}')"
   ]
  },
  {
   "cell_type": "code",
   "execution_count": 174,
   "id": "f3d773ce",
   "metadata": {
    "execution": {
     "iopub.execute_input": "2023-08-09T08:52:24.218886Z",
     "iopub.status.busy": "2023-08-09T08:52:24.218454Z",
     "iopub.status.idle": "2023-08-09T08:52:24.244851Z",
     "shell.execute_reply": "2023-08-09T08:52:24.243675Z"
    },
    "id": "uaD3Hon-kkVX",
    "outputId": "7a8a5da6-65f0-424e-dadd-d699ac4b4cb8",
    "papermill": {
     "duration": 0.067035,
     "end_time": "2023-08-09T08:52:24.247557",
     "exception": false,
     "start_time": "2023-08-09T08:52:24.180522",
     "status": "completed"
    },
    "tags": []
   },
   "outputs": [
    {
     "data": {
      "text/html": [
       "<div>\n",
       "<style scoped>\n",
       "    .dataframe tbody tr th:only-of-type {\n",
       "        vertical-align: middle;\n",
       "    }\n",
       "\n",
       "    .dataframe tbody tr th {\n",
       "        vertical-align: top;\n",
       "    }\n",
       "\n",
       "    .dataframe thead th {\n",
       "        text-align: right;\n",
       "    }\n",
       "</style>\n",
       "<table border=\"1\" class=\"dataframe\">\n",
       "  <thead>\n",
       "    <tr style=\"text-align: right;\">\n",
       "      <th></th>\n",
       "      <th>Sr No</th>\n",
       "      <th>Date</th>\n",
       "      <th>Startup Name</th>\n",
       "      <th>Industry Vertical</th>\n",
       "      <th>SubVertical</th>\n",
       "      <th>City  Location</th>\n",
       "      <th>Investors Name</th>\n",
       "      <th>InvestmentnType</th>\n",
       "      <th>Amount in USD</th>\n",
       "      <th>Remarks</th>\n",
       "      <th>Year</th>\n",
       "    </tr>\n",
       "  </thead>\n",
       "  <tbody>\n",
       "    <tr>\n",
       "      <th>0</th>\n",
       "      <td>1</td>\n",
       "      <td>2020-09-01</td>\n",
       "      <td>BYJU’S</td>\n",
       "      <td>E-Tech</td>\n",
       "      <td>E-learning</td>\n",
       "      <td>Bengaluru</td>\n",
       "      <td>Tiger Global Management</td>\n",
       "      <td>Private Equity Round</td>\n",
       "      <td>20,00,00,000</td>\n",
       "      <td>NaN</td>\n",
       "      <td>2020.0</td>\n",
       "    </tr>\n",
       "    <tr>\n",
       "      <th>16</th>\n",
       "      <td>17</td>\n",
       "      <td>2019-12-20</td>\n",
       "      <td>Lenskart.com</td>\n",
       "      <td>Ecommerce</td>\n",
       "      <td>Online Eyewear Shopping Portal</td>\n",
       "      <td>Faridabad</td>\n",
       "      <td>SoftBank Vision Fund</td>\n",
       "      <td>Series G</td>\n",
       "      <td>23,10,00,000</td>\n",
       "      <td>NaN</td>\n",
       "      <td>2019.0</td>\n",
       "    </tr>\n",
       "    <tr>\n",
       "      <th>51</th>\n",
       "      <td>52</td>\n",
       "      <td>2019-08-13</td>\n",
       "      <td>Uniphore</td>\n",
       "      <td>Customer Service Platform</td>\n",
       "      <td>Conversational AI</td>\n",
       "      <td>Palo Alto</td>\n",
       "      <td>March Capital Partners</td>\n",
       "      <td>Series C</td>\n",
       "      <td>5,10,00,000</td>\n",
       "      <td>NaN</td>\n",
       "      <td>2019.0</td>\n",
       "    </tr>\n",
       "    <tr>\n",
       "      <th>55</th>\n",
       "      <td>56</td>\n",
       "      <td>2019-08-22</td>\n",
       "      <td>INDwealth</td>\n",
       "      <td>FinTech</td>\n",
       "      <td>Wealth Management</td>\n",
       "      <td>Gurgaon</td>\n",
       "      <td>Tiger Global Management</td>\n",
       "      <td>Venture Round</td>\n",
       "      <td>1,50,00,000</td>\n",
       "      <td>NaN</td>\n",
       "      <td>2019.0</td>\n",
       "    </tr>\n",
       "    <tr>\n",
       "      <th>65</th>\n",
       "      <td>66</td>\n",
       "      <td>2019-01-07</td>\n",
       "      <td>Uniphore</td>\n",
       "      <td>Artificial Intelligence</td>\n",
       "      <td>Speech Recognition</td>\n",
       "      <td>Taramani</td>\n",
       "      <td>March Capital Partners</td>\n",
       "      <td>Series C</td>\n",
       "      <td>3,80,80,000</td>\n",
       "      <td>NaN</td>\n",
       "      <td>2019.0</td>\n",
       "    </tr>\n",
       "    <tr>\n",
       "      <th>85</th>\n",
       "      <td>86</td>\n",
       "      <td>2019-10-06</td>\n",
       "      <td>OkCredit</td>\n",
       "      <td>FinTech</td>\n",
       "      <td>Financial Services</td>\n",
       "      <td>Haryana</td>\n",
       "      <td>Tiger Global Management</td>\n",
       "      <td>Series A</td>\n",
       "      <td>1,55,00,000</td>\n",
       "      <td>NaN</td>\n",
       "      <td>2019.0</td>\n",
       "    </tr>\n",
       "    <tr>\n",
       "      <th>87</th>\n",
       "      <td>88</td>\n",
       "      <td>2019-08-06</td>\n",
       "      <td>Vogo Automotive Pvt. Ltd.</td>\n",
       "      <td>Transportation</td>\n",
       "      <td>Dockless Scooter Rental Company</td>\n",
       "      <td>Karnataka</td>\n",
       "      <td>Alteria Capital</td>\n",
       "      <td>Debt Funding</td>\n",
       "      <td>35,84,000</td>\n",
       "      <td>NaN</td>\n",
       "      <td>2019.0</td>\n",
       "    </tr>\n",
       "    <tr>\n",
       "      <th>93</th>\n",
       "      <td>94</td>\n",
       "      <td>2019-02-05</td>\n",
       "      <td>Zenoti</td>\n",
       "      <td>Saas</td>\n",
       "      <td>Beauty and Wellness Industry</td>\n",
       "      <td>Hyderabad</td>\n",
       "      <td>Tiger Global Management</td>\n",
       "      <td>Series C</td>\n",
       "      <td>5,00,00,000</td>\n",
       "      <td>NaN</td>\n",
       "      <td>2019.0</td>\n",
       "    </tr>\n",
       "    <tr>\n",
       "      <th>135</th>\n",
       "      <td>136</td>\n",
       "      <td>2018-11-19</td>\n",
       "      <td>Automation Anywhere</td>\n",
       "      <td>Automation</td>\n",
       "      <td>Robotics</td>\n",
       "      <td>California</td>\n",
       "      <td>SoftBank Vision Fund</td>\n",
       "      <td>Series B</td>\n",
       "      <td>30,00,00,000</td>\n",
       "      <td>NaN</td>\n",
       "      <td>2018.0</td>\n",
       "    </tr>\n",
       "    <tr>\n",
       "      <th>181</th>\n",
       "      <td>182</td>\n",
       "      <td>2018-08-20</td>\n",
       "      <td>RawPressery</td>\n",
       "      <td>Consumer Internet</td>\n",
       "      <td>Online Organic Juice Delivery Service</td>\n",
       "      <td>Mumbai</td>\n",
       "      <td>Alteria Capital</td>\n",
       "      <td>Debt Funding</td>\n",
       "      <td>48,00,000</td>\n",
       "      <td>NaN</td>\n",
       "      <td>2018.0</td>\n",
       "    </tr>\n",
       "    <tr>\n",
       "      <th>328</th>\n",
       "      <td>329</td>\n",
       "      <td>2018-08-03</td>\n",
       "      <td>Magicpin</td>\n",
       "      <td>Consumer Internet</td>\n",
       "      <td>Hyperlocal Discovery</td>\n",
       "      <td>Gurugram</td>\n",
       "      <td>Trifecta Capital</td>\n",
       "      <td>Debt Funding</td>\n",
       "      <td>10,00,000</td>\n",
       "      <td>NaN</td>\n",
       "      <td>2018.0</td>\n",
       "    </tr>\n",
       "    <tr>\n",
       "      <th>334</th>\n",
       "      <td>335</td>\n",
       "      <td>2018-03-19</td>\n",
       "      <td>Fingerlix</td>\n",
       "      <td>Consumer Internet</td>\n",
       "      <td>Ready To cook Food Solution</td>\n",
       "      <td>Mumbai</td>\n",
       "      <td>Alteria Capital</td>\n",
       "      <td>Debt Funding</td>\n",
       "      <td>13,10,000</td>\n",
       "      <td>NaN</td>\n",
       "      <td>2018.0</td>\n",
       "    </tr>\n",
       "    <tr>\n",
       "      <th>366</th>\n",
       "      <td>367</td>\n",
       "      <td>2018-12-02</td>\n",
       "      <td>Cashify</td>\n",
       "      <td>Ecommerce</td>\n",
       "      <td>Online Selling</td>\n",
       "      <td>Gurugram</td>\n",
       "      <td>Trifecta Capital</td>\n",
       "      <td>Debt Funding</td>\n",
       "      <td>9,35,089</td>\n",
       "      <td>NaN</td>\n",
       "      <td>2018.0</td>\n",
       "    </tr>\n",
       "  </tbody>\n",
       "</table>\n",
       "</div>"
      ],
      "text/plain": [
       "     Sr No       Date               Startup Name          Industry Vertical  \\\n",
       "0        1 2020-09-01                     BYJU’S                     E-Tech   \n",
       "16      17 2019-12-20               Lenskart.com                  Ecommerce   \n",
       "51      52 2019-08-13                   Uniphore  Customer Service Platform   \n",
       "55      56 2019-08-22                  INDwealth                    FinTech   \n",
       "65      66 2019-01-07                   Uniphore    Artificial Intelligence   \n",
       "85      86 2019-10-06                   OkCredit                    FinTech   \n",
       "87      88 2019-08-06  Vogo Automotive Pvt. Ltd.             Transportation   \n",
       "93      94 2019-02-05                     Zenoti                       Saas   \n",
       "135    136 2018-11-19        Automation Anywhere                 Automation   \n",
       "181    182 2018-08-20                RawPressery          Consumer Internet   \n",
       "328    329 2018-08-03                   Magicpin          Consumer Internet   \n",
       "334    335 2018-03-19                  Fingerlix          Consumer Internet   \n",
       "366    367 2018-12-02                    Cashify                  Ecommerce   \n",
       "\n",
       "                               SubVertical City  Location  \\\n",
       "0                               E-learning      Bengaluru   \n",
       "16          Online Eyewear Shopping Portal      Faridabad   \n",
       "51                       Conversational AI      Palo Alto   \n",
       "55                       Wealth Management        Gurgaon   \n",
       "65                      Speech Recognition       Taramani   \n",
       "85                      Financial Services        Haryana   \n",
       "87         Dockless Scooter Rental Company      Karnataka   \n",
       "93            Beauty and Wellness Industry      Hyderabad   \n",
       "135                               Robotics     California   \n",
       "181  Online Organic Juice Delivery Service         Mumbai   \n",
       "328                   Hyperlocal Discovery       Gurugram   \n",
       "334            Ready To cook Food Solution         Mumbai   \n",
       "366                         Online Selling       Gurugram   \n",
       "\n",
       "              Investors Name       InvestmentnType Amount in USD Remarks  \\\n",
       "0    Tiger Global Management  Private Equity Round  20,00,00,000     NaN   \n",
       "16      SoftBank Vision Fund              Series G  23,10,00,000     NaN   \n",
       "51    March Capital Partners              Series C   5,10,00,000     NaN   \n",
       "55   Tiger Global Management         Venture Round   1,50,00,000     NaN   \n",
       "65    March Capital Partners              Series C   3,80,80,000     NaN   \n",
       "85   Tiger Global Management              Series A   1,55,00,000     NaN   \n",
       "87           Alteria Capital          Debt Funding     35,84,000     NaN   \n",
       "93   Tiger Global Management              Series C   5,00,00,000     NaN   \n",
       "135     SoftBank Vision Fund              Series B  30,00,00,000     NaN   \n",
       "181          Alteria Capital          Debt Funding     48,00,000     NaN   \n",
       "328         Trifecta Capital          Debt Funding     10,00,000     NaN   \n",
       "334          Alteria Capital          Debt Funding     13,10,000     NaN   \n",
       "366         Trifecta Capital          Debt Funding      9,35,089     NaN   \n",
       "\n",
       "       Year  \n",
       "0    2020.0  \n",
       "16   2019.0  \n",
       "51   2019.0  \n",
       "55   2019.0  \n",
       "65   2019.0  \n",
       "85   2019.0  \n",
       "87   2019.0  \n",
       "93   2019.0  \n",
       "135  2018.0  \n",
       "181  2018.0  \n",
       "328  2018.0  \n",
       "334  2018.0  \n",
       "366  2018.0  "
      ]
     },
     "execution_count": 174,
     "metadata": {},
     "output_type": "execute_result"
    }
   ],
   "source": [
    "#Now getting to know in which kind of Industry vertical these top five investors are funding.\n",
    "\n",
    "In_st = last_few_years[last_few_years['Investors Name'].isin(in_count_ten.index)]\n",
    "In_st"
   ]
  },
  {
   "cell_type": "code",
   "execution_count": 175,
   "id": "6e1a5d6e",
   "metadata": {
    "execution": {
     "iopub.execute_input": "2023-08-09T08:52:24.324160Z",
     "iopub.status.busy": "2023-08-09T08:52:24.323739Z",
     "iopub.status.idle": "2023-08-09T08:52:24.344198Z",
     "shell.execute_reply": "2023-08-09T08:52:24.342896Z"
    },
    "id": "Y_6zdx8q81ov",
    "outputId": "177672f7-cdd7-4669-fa83-165b779e86f3",
    "papermill": {
     "duration": 0.062876,
     "end_time": "2023-08-09T08:52:24.346997",
     "exception": false,
     "start_time": "2023-08-09T08:52:24.284121",
     "status": "completed"
    },
    "tags": []
   },
   "outputs": [
    {
     "data": {
      "text/html": [
       "<div>\n",
       "<style scoped>\n",
       "    .dataframe tbody tr th:only-of-type {\n",
       "        vertical-align: middle;\n",
       "    }\n",
       "\n",
       "    .dataframe tbody tr th {\n",
       "        vertical-align: top;\n",
       "    }\n",
       "\n",
       "    .dataframe thead th {\n",
       "        text-align: right;\n",
       "    }\n",
       "</style>\n",
       "<table border=\"1\" class=\"dataframe\">\n",
       "  <thead>\n",
       "    <tr style=\"text-align: right;\">\n",
       "      <th></th>\n",
       "      <th>Investors Name</th>\n",
       "      <th>Industry Vertical</th>\n",
       "      <th>0</th>\n",
       "    </tr>\n",
       "  </thead>\n",
       "  <tbody>\n",
       "    <tr>\n",
       "      <th>0</th>\n",
       "      <td>Alteria Capital</td>\n",
       "      <td>Consumer Internet</td>\n",
       "      <td>2</td>\n",
       "    </tr>\n",
       "    <tr>\n",
       "      <th>1</th>\n",
       "      <td>Alteria Capital</td>\n",
       "      <td>Transportation</td>\n",
       "      <td>1</td>\n",
       "    </tr>\n",
       "    <tr>\n",
       "      <th>2</th>\n",
       "      <td>March Capital Partners</td>\n",
       "      <td>Artificial Intelligence</td>\n",
       "      <td>1</td>\n",
       "    </tr>\n",
       "    <tr>\n",
       "      <th>3</th>\n",
       "      <td>March Capital Partners</td>\n",
       "      <td>Customer Service Platform</td>\n",
       "      <td>1</td>\n",
       "    </tr>\n",
       "    <tr>\n",
       "      <th>4</th>\n",
       "      <td>SoftBank Vision Fund</td>\n",
       "      <td>Automation</td>\n",
       "      <td>1</td>\n",
       "    </tr>\n",
       "    <tr>\n",
       "      <th>5</th>\n",
       "      <td>SoftBank Vision Fund</td>\n",
       "      <td>Ecommerce</td>\n",
       "      <td>1</td>\n",
       "    </tr>\n",
       "    <tr>\n",
       "      <th>6</th>\n",
       "      <td>Tiger Global Management</td>\n",
       "      <td>E-Tech</td>\n",
       "      <td>1</td>\n",
       "    </tr>\n",
       "    <tr>\n",
       "      <th>7</th>\n",
       "      <td>Tiger Global Management</td>\n",
       "      <td>FinTech</td>\n",
       "      <td>2</td>\n",
       "    </tr>\n",
       "    <tr>\n",
       "      <th>8</th>\n",
       "      <td>Tiger Global Management</td>\n",
       "      <td>Saas</td>\n",
       "      <td>1</td>\n",
       "    </tr>\n",
       "    <tr>\n",
       "      <th>9</th>\n",
       "      <td>Trifecta Capital</td>\n",
       "      <td>Consumer Internet</td>\n",
       "      <td>1</td>\n",
       "    </tr>\n",
       "    <tr>\n",
       "      <th>10</th>\n",
       "      <td>Trifecta Capital</td>\n",
       "      <td>Ecommerce</td>\n",
       "      <td>1</td>\n",
       "    </tr>\n",
       "  </tbody>\n",
       "</table>\n",
       "</div>"
      ],
      "text/plain": [
       "             Investors Name          Industry Vertical  0\n",
       "0           Alteria Capital          Consumer Internet  2\n",
       "1           Alteria Capital             Transportation  1\n",
       "2    March Capital Partners    Artificial Intelligence  1\n",
       "3    March Capital Partners  Customer Service Platform  1\n",
       "4      SoftBank Vision Fund                 Automation  1\n",
       "5      SoftBank Vision Fund                  Ecommerce  1\n",
       "6   Tiger Global Management                     E-Tech  1\n",
       "7   Tiger Global Management                    FinTech  2\n",
       "8   Tiger Global Management                       Saas  1\n",
       "9          Trifecta Capital          Consumer Internet  1\n",
       "10         Trifecta Capital                  Ecommerce  1"
      ]
     },
     "execution_count": 175,
     "metadata": {},
     "output_type": "execute_result"
    }
   ],
   "source": [
    "grouped_in = In_st.groupby(['Investors Name', 'Industry Vertical']).size().reset_index()\n",
    "grouped_in"
   ]
  },
  {
   "cell_type": "code",
   "execution_count": 176,
   "id": "f1bb389f",
   "metadata": {
    "execution": {
     "iopub.execute_input": "2023-08-09T08:52:24.423636Z",
     "iopub.status.busy": "2023-08-09T08:52:24.422494Z",
     "iopub.status.idle": "2023-08-09T08:52:25.301007Z",
     "shell.execute_reply": "2023-08-09T08:52:25.299841Z"
    },
    "id": "_dDe_u7nkj23",
    "outputId": "07c97c0b-0124-47b2-ecbf-19e08232d2b3",
    "papermill": {
     "duration": 0.920188,
     "end_time": "2023-08-09T08:52:25.304295",
     "exception": false,
     "start_time": "2023-08-09T08:52:24.384107",
     "status": "completed"
    },
    "tags": []
   },
   "outputs": [
    {
     "data": {
      "text/plain": [
       "Text(0.5, 1.0, 'Investments by Investor and Industry')"
      ]
     },
     "execution_count": 176,
     "metadata": {},
     "output_type": "execute_result"
    },
    {
     "data": {
      "image/png": "[encoded data removed]",
      "text/plain": [
       "<Figure size 720x432 with 1 Axes>"
      ]
     },
     "metadata": {
      "needs_background": "light"
     },
     "output_type": "display_data"
    }
   ],
   "source": [
    "plt.figure(figsize=(10, 6))\n",
    "sns.barplot(data=grouped_in, y=grouped_in.columns[2], x='Investors Name', hue='Industry Vertical', palette='Dark2')\n",
    "plt.xticks(rotation=90)\n",
    "plt.yticks([1,2])\n",
    "plt.xlabel('Investors Name', fontsize=12)\n",
    "plt.ylabel('Count', fontsize=12)\n",
    "plt.title('Investments by Investor and Industry', fontsize=15)"
   ]
  },
  {
   "cell_type": "markdown",
   "id": "8f5a181e",
   "metadata": {
    "id": "9hWDAMVf_OwY",
    "papermill": {
     "duration": 0.037707,
     "end_time": "2023-08-09T08:52:25.382017",
     "exception": false,
     "start_time": "2023-08-09T08:52:25.344310",
     "status": "completed"
    },
    "tags": []
   },
   "source": [
    "**3) What are the hot fields that get a lot of funding these days?**"
   ]
  },
  {
   "cell_type": "code",
   "execution_count": 177,
   "id": "38174e86",
   "metadata": {
    "execution": {
     "iopub.execute_input": "2023-08-09T08:52:25.460206Z",
     "iopub.status.busy": "2023-08-09T08:52:25.459783Z",
     "iopub.status.idle": "2023-08-09T08:52:25.475727Z",
     "shell.execute_reply": "2023-08-09T08:52:25.474583Z"
    },
    "id": "JjgZQBTW1ET7",
    "outputId": "fb7e6e0b-fc77-4826-e285-8f0bc8e307c5",
    "papermill": {
     "duration": 0.057344,
     "end_time": "2023-08-09T08:52:25.478100",
     "exception": false,
     "start_time": "2023-08-09T08:52:25.420756",
     "status": "completed"
    },
    "tags": []
   },
   "outputs": [
    {
     "data": {
      "text/html": [
       "<div>\n",
       "<style scoped>\n",
       "    .dataframe tbody tr th:only-of-type {\n",
       "        vertical-align: middle;\n",
       "    }\n",
       "\n",
       "    .dataframe tbody tr th {\n",
       "        vertical-align: top;\n",
       "    }\n",
       "\n",
       "    .dataframe thead th {\n",
       "        text-align: right;\n",
       "    }\n",
       "</style>\n",
       "<table border=\"1\" class=\"dataframe\">\n",
       "  <thead>\n",
       "    <tr style=\"text-align: right;\">\n",
       "      <th></th>\n",
       "      <th>index</th>\n",
       "      <th>SubVertical</th>\n",
       "    </tr>\n",
       "  </thead>\n",
       "  <tbody>\n",
       "    <tr>\n",
       "      <th>0</th>\n",
       "      <td>E-learning</td>\n",
       "      <td>3</td>\n",
       "    </tr>\n",
       "    <tr>\n",
       "      <th>1</th>\n",
       "      <td>Logistics</td>\n",
       "      <td>3</td>\n",
       "    </tr>\n",
       "    <tr>\n",
       "      <th>2</th>\n",
       "      <td>Optimization</td>\n",
       "      <td>2</td>\n",
       "    </tr>\n",
       "    <tr>\n",
       "      <th>3</th>\n",
       "      <td>Cabs</td>\n",
       "      <td>2</td>\n",
       "    </tr>\n",
       "    <tr>\n",
       "      <th>4</th>\n",
       "      <td>Brewery</td>\n",
       "      <td>2</td>\n",
       "    </tr>\n",
       "    <tr>\n",
       "      <th>5</th>\n",
       "      <td>Financial Services</td>\n",
       "      <td>2</td>\n",
       "    </tr>\n",
       "    <tr>\n",
       "      <th>6</th>\n",
       "      <td>FinTech</td>\n",
       "      <td>2</td>\n",
       "    </tr>\n",
       "    <tr>\n",
       "      <th>7</th>\n",
       "      <td>Wealth Management</td>\n",
       "      <td>2</td>\n",
       "    </tr>\n",
       "    <tr>\n",
       "      <th>8</th>\n",
       "      <td>Agritech</td>\n",
       "      <td>2</td>\n",
       "    </tr>\n",
       "    <tr>\n",
       "      <th>9</th>\n",
       "      <td>Open-market, freight management platform</td>\n",
       "      <td>1</td>\n",
       "    </tr>\n",
       "  </tbody>\n",
       "</table>\n",
       "</div>"
      ],
      "text/plain": [
       "                                      index  SubVertical\n",
       "0                                E-learning            3\n",
       "1                                 Logistics            3\n",
       "2                              Optimization            2\n",
       "3                                      Cabs            2\n",
       "4                                   Brewery            2\n",
       "5                        Financial Services            2\n",
       "6                                   FinTech            2\n",
       "7                         Wealth Management            2\n",
       "8                                  Agritech            2\n",
       "9  Open-market, freight management platform            1"
      ]
     },
     "execution_count": 177,
     "metadata": {},
     "output_type": "execute_result"
    }
   ],
   "source": [
    "#List of top 10 hot fields that are getting funding these days (2019- 2020)\n",
    "\n",
    "y1=last_few_years[last_few_years['Year'].between(2019,2020)].SubVertical.value_counts().sort_values(ascending=False).head(10).reset_index()\n",
    "y1"
   ]
  },
  {
   "cell_type": "code",
   "execution_count": 178,
   "id": "a35a7908",
   "metadata": {
    "execution": {
     "iopub.execute_input": "2023-08-09T08:52:25.556728Z",
     "iopub.status.busy": "2023-08-09T08:52:25.555954Z",
     "iopub.status.idle": "2023-08-09T08:52:25.571168Z",
     "shell.execute_reply": "2023-08-09T08:52:25.569997Z"
    },
    "id": "tbTjzn7V1EQc",
    "outputId": "676401bf-a6b9-4e0d-a3f3-35551292fe17",
    "papermill": {
     "duration": 0.057807,
     "end_time": "2023-08-09T08:52:25.573702",
     "exception": false,
     "start_time": "2023-08-09T08:52:25.515895",
     "status": "completed"
    },
    "tags": []
   },
   "outputs": [
    {
     "data": {
      "text/html": [
       "<div>\n",
       "<style scoped>\n",
       "    .dataframe tbody tr th:only-of-type {\n",
       "        vertical-align: middle;\n",
       "    }\n",
       "\n",
       "    .dataframe tbody tr th {\n",
       "        vertical-align: top;\n",
       "    }\n",
       "\n",
       "    .dataframe thead th {\n",
       "        text-align: right;\n",
       "    }\n",
       "</style>\n",
       "<table border=\"1\" class=\"dataframe\">\n",
       "  <thead>\n",
       "    <tr style=\"text-align: right;\">\n",
       "      <th></th>\n",
       "      <th>index</th>\n",
       "      <th>SubVertical</th>\n",
       "    </tr>\n",
       "  </thead>\n",
       "  <tbody>\n",
       "    <tr>\n",
       "      <th>0</th>\n",
       "      <td>Online Lending Platform</td>\n",
       "      <td>11</td>\n",
       "    </tr>\n",
       "    <tr>\n",
       "      <th>1</th>\n",
       "      <td>Online Pharmacy</td>\n",
       "      <td>10</td>\n",
       "    </tr>\n",
       "    <tr>\n",
       "      <th>2</th>\n",
       "      <td>Food Delivery Platform</td>\n",
       "      <td>8</td>\n",
       "    </tr>\n",
       "    <tr>\n",
       "      <th>3</th>\n",
       "      <td>Online Education Platform</td>\n",
       "      <td>5</td>\n",
       "    </tr>\n",
       "    <tr>\n",
       "      <th>4</th>\n",
       "      <td>Education</td>\n",
       "      <td>5</td>\n",
       "    </tr>\n",
       "    <tr>\n",
       "      <th>5</th>\n",
       "      <td>Online lending platform</td>\n",
       "      <td>5</td>\n",
       "    </tr>\n",
       "    <tr>\n",
       "      <th>6</th>\n",
       "      <td>Online Learning Platform</td>\n",
       "      <td>5</td>\n",
       "    </tr>\n",
       "    <tr>\n",
       "      <th>7</th>\n",
       "      <td>Online Lending</td>\n",
       "      <td>5</td>\n",
       "    </tr>\n",
       "    <tr>\n",
       "      <th>8</th>\n",
       "      <td>Online Food Delivery</td>\n",
       "      <td>4</td>\n",
       "    </tr>\n",
       "    <tr>\n",
       "      <th>9</th>\n",
       "      <td>Non-Banking Financial Company</td>\n",
       "      <td>4</td>\n",
       "    </tr>\n",
       "  </tbody>\n",
       "</table>\n",
       "</div>"
      ],
      "text/plain": [
       "                           index  SubVertical\n",
       "0        Online Lending Platform           11\n",
       "1                Online Pharmacy           10\n",
       "2         Food Delivery Platform            8\n",
       "3      Online Education Platform            5\n",
       "4                      Education            5\n",
       "5        Online lending platform            5\n",
       "6       Online Learning Platform            5\n",
       "7                 Online Lending            5\n",
       "8           Online Food Delivery            4\n",
       "9  Non-Banking Financial Company            4"
      ]
     },
     "execution_count": 178,
     "metadata": {},
     "output_type": "execute_result"
    }
   ],
   "source": [
    "#List of top 10 hot fields that are getting funding (2015- 2020)\n",
    "\n",
    "y2=df.SubVertical.value_counts().sort_values(ascending=False).head(10).reset_index()\n",
    "y2"
   ]
  },
  {
   "cell_type": "code",
   "execution_count": 179,
   "id": "2770146d",
   "metadata": {
    "execution": {
     "iopub.execute_input": "2023-08-09T08:52:25.653105Z",
     "iopub.status.busy": "2023-08-09T08:52:25.652337Z",
     "iopub.status.idle": "2023-08-09T08:52:25.666676Z",
     "shell.execute_reply": "2023-08-09T08:52:25.665458Z"
    },
    "id": "xV2aFkECJyhr",
    "outputId": "802ecea0-125b-4d93-daef-eb942c1c91be",
    "papermill": {
     "duration": 0.057488,
     "end_time": "2023-08-09T08:52:25.669299",
     "exception": false,
     "start_time": "2023-08-09T08:52:25.611811",
     "status": "completed"
    },
    "tags": []
   },
   "outputs": [
    {
     "data": {
      "text/html": [
       "<div>\n",
       "<style scoped>\n",
       "    .dataframe tbody tr th:only-of-type {\n",
       "        vertical-align: middle;\n",
       "    }\n",
       "\n",
       "    .dataframe tbody tr th {\n",
       "        vertical-align: top;\n",
       "    }\n",
       "\n",
       "    .dataframe thead th {\n",
       "        text-align: right;\n",
       "    }\n",
       "</style>\n",
       "<table border=\"1\" class=\"dataframe\">\n",
       "  <thead>\n",
       "    <tr style=\"text-align: right;\">\n",
       "      <th></th>\n",
       "      <th>index</th>\n",
       "      <th>SubVertical</th>\n",
       "    </tr>\n",
       "  </thead>\n",
       "  <tbody>\n",
       "    <tr>\n",
       "      <th>0</th>\n",
       "      <td>Online Lending Platform</td>\n",
       "      <td>9</td>\n",
       "    </tr>\n",
       "    <tr>\n",
       "      <th>1</th>\n",
       "      <td>Education</td>\n",
       "      <td>5</td>\n",
       "    </tr>\n",
       "    <tr>\n",
       "      <th>2</th>\n",
       "      <td>Online Lending</td>\n",
       "      <td>5</td>\n",
       "    </tr>\n",
       "    <tr>\n",
       "      <th>3</th>\n",
       "      <td>Online Education Platform</td>\n",
       "      <td>4</td>\n",
       "    </tr>\n",
       "    <tr>\n",
       "      <th>4</th>\n",
       "      <td>Non-Banking Financial Company</td>\n",
       "      <td>3</td>\n",
       "    </tr>\n",
       "    <tr>\n",
       "      <th>5</th>\n",
       "      <td>Logistics</td>\n",
       "      <td>3</td>\n",
       "    </tr>\n",
       "    <tr>\n",
       "      <th>6</th>\n",
       "      <td>Agri-tech</td>\n",
       "      <td>3</td>\n",
       "    </tr>\n",
       "    <tr>\n",
       "      <th>7</th>\n",
       "      <td>SaaS</td>\n",
       "      <td>3</td>\n",
       "    </tr>\n",
       "    <tr>\n",
       "      <th>8</th>\n",
       "      <td>Online Food Delivery</td>\n",
       "      <td>3</td>\n",
       "    </tr>\n",
       "    <tr>\n",
       "      <th>9</th>\n",
       "      <td>E-learning</td>\n",
       "      <td>3</td>\n",
       "    </tr>\n",
       "  </tbody>\n",
       "</table>\n",
       "</div>"
      ],
      "text/plain": [
       "                           index  SubVertical\n",
       "0        Online Lending Platform            9\n",
       "1                      Education            5\n",
       "2                 Online Lending            5\n",
       "3      Online Education Platform            4\n",
       "4  Non-Banking Financial Company            3\n",
       "5                      Logistics            3\n",
       "6                      Agri-tech            3\n",
       "7                           SaaS            3\n",
       "8           Online Food Delivery            3\n",
       "9                     E-learning            3"
      ]
     },
     "execution_count": 179,
     "metadata": {},
     "output_type": "execute_result"
    }
   ],
   "source": [
    "#List of top 10 hot fields that are getting funding (2018- 2020)\n",
    "\n",
    "y3=last_few_years.SubVertical.value_counts().sort_values(ascending=False).head(10).reset_index()\n",
    "y3"
   ]
  },
  {
   "cell_type": "code",
   "execution_count": 180,
   "id": "4a0e64ec",
   "metadata": {
    "execution": {
     "iopub.execute_input": "2023-08-09T08:52:25.749143Z",
     "iopub.status.busy": "2023-08-09T08:52:25.748700Z",
     "iopub.status.idle": "2023-08-09T08:52:26.820692Z",
     "shell.execute_reply": "2023-08-09T08:52:26.819476Z"
    },
    "id": "tOLBxZIe1ENt",
    "outputId": "8584fcf6-386c-4706-de2d-72716dde75a9",
    "papermill": {
     "duration": 1.115865,
     "end_time": "2023-08-09T08:52:26.824082",
     "exception": false,
     "start_time": "2023-08-09T08:52:25.708217",
     "status": "completed"
    },
    "tags": []
   },
   "outputs": [
    {
     "data": {
      "text/plain": [
       "[Text(0, 0, 'Online Lending Platform'),\n",
       " Text(1, 0, 'Online Pharmacy'),\n",
       " Text(2, 0, 'Food Delivery Platform'),\n",
       " Text(3, 0, 'Online Education Platform'),\n",
       " Text(4, 0, 'Education'),\n",
       " Text(5, 0, 'Online lending platform'),\n",
       " Text(6, 0, 'Online Learning Platform'),\n",
       " Text(7, 0, 'Online Lending'),\n",
       " Text(8, 0, 'Online Food Delivery'),\n",
       " Text(9, 0, 'Non-Banking Financial Company')]"
      ]
     },
     "execution_count": 180,
     "metadata": {},
     "output_type": "execute_result"
    },
    {
     "data": {
      "image/png": "[encoded data removed]",
      "text/plain": [
       "<Figure size 1080x360 with 3 Axes>"
      ]
     },
     "metadata": {
      "needs_background": "light"
     },
     "output_type": "display_data"
    }
   ],
   "source": [
    "fig , ax = plt.subplots(1,3, figsize=(15,5))\n",
    "\n",
    "fig.suptitle('Hot fields that get a lot of funding over the Period')\n",
    "\n",
    "sns.barplot(x='index', y='SubVertical', data=y1, ax=ax[0],palette='Blues_r')\n",
    "ax[0].set_title('2019-2020')\n",
    "ax[0].set_ylabel('Count',fontsize=12)\n",
    "ax[0].set_xlabel('')\n",
    "ax[0].set_xticklabels(y1['index'],rotation=90)\n",
    "\n",
    "sns.barplot(x='index', y='SubVertical', data=y2, ax=ax[1],palette='Blues_r')\n",
    "ax[1].set_title('2015-2020')\n",
    "ax[1].set_ylabel('Count',fontsize=12)\n",
    "ax[1].set_xlabel('')\n",
    "ax[1].set_xticklabels(y2['index'],rotation=90)\n",
    "\n",
    "sns.barplot(x='index', y='SubVertical', data=y2, ax=ax[2],palette='Blues_r')\n",
    "ax[2].set_title('2018-2020')\n",
    "ax[2].set_ylabel('Count',fontsize=12)\n",
    "ax[2].set_xlabel('')\n",
    "ax[2].set_xticklabels(y2['index'],rotation=90)"
   ]
  },
  {
   "cell_type": "markdown",
   "id": "54723136",
   "metadata": {
    "id": "SNeqXKpWlGWP",
    "papermill": {
     "duration": 0.039552,
     "end_time": "2023-08-09T08:52:26.904280",
     "exception": false,
     "start_time": "2023-08-09T08:52:26.864728",
     "status": "completed"
    },
    "tags": []
   },
   "source": [
    "**Problem Statement :**\n",
    "\n",
    "4) Check the trend of investments over the years. To check the trend, find -\n",
    "Total number of fundings done in each year.\n",
    "\n",
    "5) Plot a line graph between year and number of fundings. Take year on x-axis and number of fundings on y-axis.\n",
    "\n",
    "6)Print year-wise total number of fundings also. Print years in ascending order.\n"
   ]
  },
  {
   "cell_type": "markdown",
   "id": "a3f0551e",
   "metadata": {
    "id": "AY5TVmLGlf4u",
    "papermill": {
     "duration": 0.051942,
     "end_time": "2023-08-09T08:52:27.014680",
     "exception": false,
     "start_time": "2023-08-09T08:52:26.962738",
     "status": "completed"
    },
    "tags": []
   },
   "source": [
    "**4) Total number of fundings done in each year.**"
   ]
  },
  {
   "cell_type": "code",
   "execution_count": 181,
   "id": "bb641b8f",
   "metadata": {
    "execution": {
     "iopub.execute_input": "2023-08-09T08:52:27.110399Z",
     "iopub.status.busy": "2023-08-09T08:52:27.108985Z",
     "iopub.status.idle": "2023-08-09T08:52:27.137712Z",
     "shell.execute_reply": "2023-08-09T08:52:27.136564Z"
    },
    "id": "jGJD4jYgmRYS",
    "outputId": "7798af7e-3ec3-4587-bf26-8c5a02344528",
    "papermill": {
     "duration": 0.074225,
     "end_time": "2023-08-09T08:52:27.140982",
     "exception": false,
     "start_time": "2023-08-09T08:52:27.066757",
     "status": "completed"
    },
    "tags": []
   },
   "outputs": [
    {
     "name": "stdout",
     "output_type": "stream",
     "text": [
      "<class 'pandas.core.frame.DataFrame'>\n",
      "RangeIndex: 3044 entries, 0 to 3043\n",
      "Data columns (total 11 columns):\n",
      " #   Column             Non-Null Count  Dtype         \n",
      "---  ------             --------------  -----         \n",
      " 0   Sr No              3044 non-null   int64         \n",
      " 1   Date               3041 non-null   datetime64[ns]\n",
      " 2   Startup Name       3044 non-null   object        \n",
      " 3   Industry Vertical  3044 non-null   object        \n",
      " 4   SubVertical        2108 non-null   object        \n",
      " 5   City  Location     2864 non-null   object        \n",
      " 6   Investors Name     3020 non-null   object        \n",
      " 7   InvestmentnType    3040 non-null   object        \n",
      " 8   Amount in USD      2084 non-null   object        \n",
      " 9   Remarks            419 non-null    object        \n",
      " 10  Year               3041 non-null   float64       \n",
      "dtypes: datetime64[ns](1), float64(1), int64(1), object(8)\n",
      "memory usage: 261.7+ KB\n"
     ]
    }
   ],
   "source": [
    "df.info()"
   ]
  },
  {
   "cell_type": "code",
   "execution_count": 182,
   "id": "1e5371be",
   "metadata": {
    "execution": {
     "iopub.execute_input": "2023-08-09T08:52:27.231902Z",
     "iopub.status.busy": "2023-08-09T08:52:27.230402Z",
     "iopub.status.idle": "2023-08-09T08:52:27.246895Z",
     "shell.execute_reply": "2023-08-09T08:52:27.245567Z"
    },
    "id": "AJXwb4U7u-Da",
    "outputId": "f0bfdcd2-bbc2-4373-9ab3-521ccb350fba",
    "papermill": {
     "duration": 0.062451,
     "end_time": "2023-08-09T08:52:27.249867",
     "exception": false,
     "start_time": "2023-08-09T08:52:27.187416",
     "status": "completed"
    },
    "tags": []
   },
   "outputs": [
    {
     "name": "stderr",
     "output_type": "stream",
     "text": [
      "C:\\Users\\walee\\AppData\\Local\\Temp/ipykernel_1356/3373895847.py:4: FutureWarning: The default value of regex will change from True to False in a future version. In addition, single character regular expressions will *not* be treated as literal strings when regex=True.\n",
      "  df['Amount in USD']=df['Amount in USD'].str.replace('+','')\n"
     ]
    }
   ],
   "source": [
    "#replacing or changing the value format to convert it into float\n",
    "\n",
    "df['Amount in USD']=df['Amount in USD'].str.replace(',','')\n",
    "df['Amount in USD']=df['Amount in USD'].str.replace('+','')"
   ]
  },
  {
   "cell_type": "code",
   "execution_count": 183,
   "id": "f4e08b6d",
   "metadata": {
    "execution": {
     "iopub.execute_input": "2023-08-09T08:52:27.340964Z",
     "iopub.status.busy": "2023-08-09T08:52:27.339973Z",
     "iopub.status.idle": "2023-08-09T08:52:27.367439Z",
     "shell.execute_reply": "2023-08-09T08:52:27.366276Z"
    },
    "id": "aOGmNhRTomCI",
    "outputId": "2bb9487c-2ad6-40c4-c57e-f212d13194b9",
    "papermill": {
     "duration": 0.079682,
     "end_time": "2023-08-09T08:52:27.370834",
     "exception": false,
     "start_time": "2023-08-09T08:52:27.291152",
     "status": "completed"
    },
    "tags": []
   },
   "outputs": [
    {
     "data": {
      "text/html": [
       "<div>\n",
       "<style scoped>\n",
       "    .dataframe tbody tr th:only-of-type {\n",
       "        vertical-align: middle;\n",
       "    }\n",
       "\n",
       "    .dataframe tbody tr th {\n",
       "        vertical-align: top;\n",
       "    }\n",
       "\n",
       "    .dataframe thead th {\n",
       "        text-align: right;\n",
       "    }\n",
       "</style>\n",
       "<table border=\"1\" class=\"dataframe\">\n",
       "  <thead>\n",
       "    <tr style=\"text-align: right;\">\n",
       "      <th></th>\n",
       "      <th>Sr No</th>\n",
       "      <th>Date</th>\n",
       "      <th>Startup Name</th>\n",
       "      <th>Industry Vertical</th>\n",
       "      <th>SubVertical</th>\n",
       "      <th>City  Location</th>\n",
       "      <th>Investors Name</th>\n",
       "      <th>InvestmentnType</th>\n",
       "      <th>Amount in USD</th>\n",
       "      <th>Remarks</th>\n",
       "      <th>Year</th>\n",
       "    </tr>\n",
       "  </thead>\n",
       "  <tbody>\n",
       "    <tr>\n",
       "      <th>20</th>\n",
       "      <td>21</td>\n",
       "      <td>2019-11-17</td>\n",
       "      <td>Burger Singh</td>\n",
       "      <td>Food and Beverage</td>\n",
       "      <td>Indian Burger Brand</td>\n",
       "      <td>Gurgaon</td>\n",
       "      <td>RB Investments</td>\n",
       "      <td>Venture</td>\n",
       "      <td>undisclosed</td>\n",
       "      <td>NaN</td>\n",
       "      <td>2019.0</td>\n",
       "    </tr>\n",
       "    <tr>\n",
       "      <th>34</th>\n",
       "      <td>35</td>\n",
       "      <td>2019-10-21</td>\n",
       "      <td>The Man Company</td>\n",
       "      <td>Consumer Goods</td>\n",
       "      <td>Beauty and Grooming</td>\n",
       "      <td>Gurgaon</td>\n",
       "      <td>Ayushmann Khurana</td>\n",
       "      <td>Corporate Round</td>\n",
       "      <td>unknown</td>\n",
       "      <td>NaN</td>\n",
       "      <td>2019.0</td>\n",
       "    </tr>\n",
       "    <tr>\n",
       "      <th>58</th>\n",
       "      <td>59</td>\n",
       "      <td>2019-08-19</td>\n",
       "      <td>Mishry Reviews</td>\n",
       "      <td>Services</td>\n",
       "      <td>Product Review</td>\n",
       "      <td>Gurgaon</td>\n",
       "      <td>Vir Sanghvi</td>\n",
       "      <td>Series A</td>\n",
       "      <td>Undisclosed</td>\n",
       "      <td>NaN</td>\n",
       "      <td>2019.0</td>\n",
       "    </tr>\n",
       "    <tr>\n",
       "      <th>89</th>\n",
       "      <td>90</td>\n",
       "      <td>2019-06-05</td>\n",
       "      <td>Ola Electric</td>\n",
       "      <td>Transport</td>\n",
       "      <td>Cabs</td>\n",
       "      <td>Bengaluru</td>\n",
       "      <td>Tata Sons</td>\n",
       "      <td>Series A</td>\n",
       "      <td>undisclosed</td>\n",
       "      <td>NaN</td>\n",
       "      <td>2019.0</td>\n",
       "    </tr>\n",
       "    <tr>\n",
       "      <th>91</th>\n",
       "      <td>92</td>\n",
       "      <td>2019-05-05</td>\n",
       "      <td>StyleDotMe</td>\n",
       "      <td>Ecommerce</td>\n",
       "      <td>Fashion and Shopping</td>\n",
       "      <td>Delhi</td>\n",
       "      <td>Indian Angel Network and other angel investors...</td>\n",
       "      <td>Bridge Round</td>\n",
       "      <td>undisclosed</td>\n",
       "      <td>NaN</td>\n",
       "      <td>2019.0</td>\n",
       "    </tr>\n",
       "    <tr>\n",
       "      <th>112</th>\n",
       "      <td>113</td>\n",
       "      <td>2019-01-02</td>\n",
       "      <td>FleetX</td>\n",
       "      <td>AI</td>\n",
       "      <td>Logistics</td>\n",
       "      <td>Gurgaon</td>\n",
       "      <td>India Quotient and LetsVenture\\\\xe2\\\\x80\\\\x99s...</td>\n",
       "      <td>Pre Series A</td>\n",
       "      <td>Undisclosed</td>\n",
       "      <td>NaN</td>\n",
       "      <td>2019.0</td>\n",
       "    </tr>\n",
       "    <tr>\n",
       "      <th>139</th>\n",
       "      <td>140</td>\n",
       "      <td>2018-11-22</td>\n",
       "      <td>Skillbox</td>\n",
       "      <td>Social Network</td>\n",
       "      <td>Art</td>\n",
       "      <td>Gurugram</td>\n",
       "      <td>Individual investors</td>\n",
       "      <td>Seed Funding</td>\n",
       "      <td>Undisclosed</td>\n",
       "      <td>NaN</td>\n",
       "      <td>2018.0</td>\n",
       "    </tr>\n",
       "  </tbody>\n",
       "</table>\n",
       "</div>"
      ],
      "text/plain": [
       "     Sr No       Date     Startup Name  Industry Vertical  \\\n",
       "20      21 2019-11-17     Burger Singh  Food and Beverage   \n",
       "34      35 2019-10-21  The Man Company     Consumer Goods   \n",
       "58      59 2019-08-19   Mishry Reviews           Services   \n",
       "89      90 2019-06-05     Ola Electric          Transport   \n",
       "91      92 2019-05-05       StyleDotMe          Ecommerce   \n",
       "112    113 2019-01-02           FleetX                 AI   \n",
       "139    140 2018-11-22         Skillbox     Social Network   \n",
       "\n",
       "              SubVertical City  Location  \\\n",
       "20    Indian Burger Brand        Gurgaon   \n",
       "34    Beauty and Grooming        Gurgaon   \n",
       "58         Product Review        Gurgaon   \n",
       "89                   Cabs      Bengaluru   \n",
       "91   Fashion and Shopping          Delhi   \n",
       "112             Logistics        Gurgaon   \n",
       "139                   Art       Gurugram   \n",
       "\n",
       "                                        Investors Name  InvestmentnType  \\\n",
       "20                                      RB Investments          Venture   \n",
       "34                                   Ayushmann Khurana  Corporate Round   \n",
       "58                                         Vir Sanghvi         Series A   \n",
       "89                                           Tata Sons         Series A   \n",
       "91   Indian Angel Network and other angel investors...     Bridge Round   \n",
       "112  India Quotient and LetsVenture\\\\xe2\\\\x80\\\\x99s...     Pre Series A   \n",
       "139                               Individual investors     Seed Funding   \n",
       "\n",
       "    Amount in USD Remarks    Year  \n",
       "20    undisclosed     NaN  2019.0  \n",
       "34        unknown     NaN  2019.0  \n",
       "58    Undisclosed     NaN  2019.0  \n",
       "89    undisclosed     NaN  2019.0  \n",
       "91    undisclosed     NaN  2019.0  \n",
       "112   Undisclosed     NaN  2019.0  \n",
       "139   Undisclosed     NaN  2018.0  "
      ]
     },
     "execution_count": 183,
     "metadata": {},
     "output_type": "execute_result"
    }
   ],
   "source": [
    "#some of the positions have ['undisclosed','Undisclosed','unknown'] kind of values therefore locating those positions\n",
    "\n",
    "l=df[df['Amount in USD'].isin(['undisclosed','Undisclosed','unknown'])]\n",
    "l"
   ]
  },
  {
   "cell_type": "code",
   "execution_count": 184,
   "id": "30cb709a",
   "metadata": {
    "execution": {
     "iopub.execute_input": "2023-08-09T08:52:27.465272Z",
     "iopub.status.busy": "2023-08-09T08:52:27.464571Z",
     "iopub.status.idle": "2023-08-09T08:52:27.471530Z",
     "shell.execute_reply": "2023-08-09T08:52:27.470660Z"
    },
    "id": "keMGwqrbv8c4",
    "papermill": {
     "duration": 0.052713,
     "end_time": "2023-08-09T08:52:27.473867",
     "exception": false,
     "start_time": "2023-08-09T08:52:27.421154",
     "status": "completed"
    },
    "tags": []
   },
   "outputs": [],
   "source": [
    "#dropping all the rows where ['undisclosed','Undisclosed','unknown'] values are present\n",
    "\n",
    "df.drop(l.index, inplace=True)"
   ]
  },
  {
   "cell_type": "code",
   "execution_count": 185,
   "id": "e224ef65",
   "metadata": {
    "execution": {
     "iopub.execute_input": "2023-08-09T08:52:27.558765Z",
     "iopub.status.busy": "2023-08-09T08:52:27.558018Z",
     "iopub.status.idle": "2023-08-09T08:52:27.567150Z",
     "shell.execute_reply": "2023-08-09T08:52:27.566308Z"
    },
    "id": "_uZhTf74wXHq",
    "papermill": {
     "duration": 0.054532,
     "end_time": "2023-08-09T08:52:27.569696",
     "exception": false,
     "start_time": "2023-08-09T08:52:27.515164",
     "status": "completed"
    },
    "tags": []
   },
   "outputs": [],
   "source": [
    "#some of the positions have values which cannot be converted to umerical data\n",
    "#therefore errors='coerce' will replace the non convertible values to NAN (not a number).\n",
    "\n",
    "df['Amount in USD']=pd.to_numeric(df['Amount in USD'], errors='coerce')"
   ]
  },
  {
   "cell_type": "code",
   "execution_count": 186,
   "id": "5f0486a3",
   "metadata": {
    "execution": {
     "iopub.execute_input": "2023-08-09T08:52:27.654482Z",
     "iopub.status.busy": "2023-08-09T08:52:27.654001Z",
     "iopub.status.idle": "2023-08-09T08:52:27.662823Z",
     "shell.execute_reply": "2023-08-09T08:52:27.661827Z"
    },
    "id": "j1bQ6Jio0_gD",
    "outputId": "4623e006-715c-46f0-ad5f-4d3c357908ce",
    "papermill": {
     "duration": 0.054161,
     "end_time": "2023-08-09T08:52:27.664991",
     "exception": false,
     "start_time": "2023-08-09T08:52:27.610830",
     "status": "completed"
    },
    "tags": []
   },
   "outputs": [
    {
     "data": {
      "text/plain": [
       "971"
      ]
     },
     "execution_count": 186,
     "metadata": {},
     "output_type": "execute_result"
    }
   ],
   "source": [
    "df['Amount in USD'].isnull().sum()"
   ]
  },
  {
   "cell_type": "code",
   "execution_count": 187,
   "id": "57b88cdb",
   "metadata": {
    "execution": {
     "iopub.execute_input": "2023-08-09T08:52:27.750400Z",
     "iopub.status.busy": "2023-08-09T08:52:27.749691Z",
     "iopub.status.idle": "2023-08-09T08:52:27.755548Z",
     "shell.execute_reply": "2023-08-09T08:52:27.754707Z"
    },
    "id": "Fv6PLGn70rja",
    "papermill": {
     "duration": 0.051337,
     "end_time": "2023-08-09T08:52:27.757773",
     "exception": false,
     "start_time": "2023-08-09T08:52:27.706436",
     "status": "completed"
    },
    "tags": []
   },
   "outputs": [],
   "source": [
    "#Filling the null values with 0\n",
    "\n",
    "df['Amount in USD']=df['Amount in USD'].fillna(0)"
   ]
  },
  {
   "cell_type": "code",
   "execution_count": 188,
   "id": "01f57fab",
   "metadata": {
    "execution": {
     "iopub.execute_input": "2023-08-09T08:52:27.843641Z",
     "iopub.status.busy": "2023-08-09T08:52:27.842890Z",
     "iopub.status.idle": "2023-08-09T08:52:27.864357Z",
     "shell.execute_reply": "2023-08-09T08:52:27.862891Z"
    },
    "id": "xRnHntRAxDHR",
    "outputId": "e40c8b60-8bc1-4884-e2e9-7c468bfcf91a",
    "papermill": {
     "duration": 0.067842,
     "end_time": "2023-08-09T08:52:27.867309",
     "exception": false,
     "start_time": "2023-08-09T08:52:27.799467",
     "status": "completed"
    },
    "tags": []
   },
   "outputs": [
    {
     "name": "stdout",
     "output_type": "stream",
     "text": [
      "<class 'pandas.core.frame.DataFrame'>\n",
      "Int64Index: 3037 entries, 0 to 3043\n",
      "Data columns (total 11 columns):\n",
      " #   Column             Non-Null Count  Dtype         \n",
      "---  ------             --------------  -----         \n",
      " 0   Sr No              3037 non-null   int64         \n",
      " 1   Date               3034 non-null   datetime64[ns]\n",
      " 2   Startup Name       3037 non-null   object        \n",
      " 3   Industry Vertical  3037 non-null   object        \n",
      " 4   SubVertical        2101 non-null   object        \n",
      " 5   City  Location     2857 non-null   object        \n",
      " 6   Investors Name     3013 non-null   object        \n",
      " 7   InvestmentnType    3033 non-null   object        \n",
      " 8   Amount in USD      3037 non-null   float64       \n",
      " 9   Remarks            419 non-null    object        \n",
      " 10  Year               3034 non-null   float64       \n",
      "dtypes: datetime64[ns](1), float64(2), int64(1), object(7)\n",
      "memory usage: 284.7+ KB\n"
     ]
    }
   ],
   "source": [
    "#now we have all the entries in the 'Amount in USD' coulumn.\n",
    "#but earlier values which were null or unacceptable is being converted or filled with 0.\n",
    "\n",
    "df.info()"
   ]
  },
  {
   "cell_type": "code",
   "execution_count": 189,
   "id": "2e1a5393",
   "metadata": {
    "execution": {
     "iopub.execute_input": "2023-08-09T08:52:27.954264Z",
     "iopub.status.busy": "2023-08-09T08:52:27.953145Z",
     "iopub.status.idle": "2023-08-09T08:52:27.973044Z",
     "shell.execute_reply": "2023-08-09T08:52:27.972196Z"
    },
    "id": "Uw65Gz5A1EHl",
    "outputId": "6c40f1e6-e678-408f-99d6-5965ca423fdb",
    "papermill": {
     "duration": 0.065997,
     "end_time": "2023-08-09T08:52:27.975123",
     "exception": false,
     "start_time": "2023-08-09T08:52:27.909126",
     "status": "completed"
    },
    "tags": []
   },
   "outputs": [
    {
     "data": {
      "text/html": [
       "<div>\n",
       "<style scoped>\n",
       "    .dataframe tbody tr th:only-of-type {\n",
       "        vertical-align: middle;\n",
       "    }\n",
       "\n",
       "    .dataframe tbody tr th {\n",
       "        vertical-align: top;\n",
       "    }\n",
       "\n",
       "    .dataframe thead th {\n",
       "        text-align: right;\n",
       "    }\n",
       "</style>\n",
       "<table border=\"1\" class=\"dataframe\">\n",
       "  <thead>\n",
       "    <tr style=\"text-align: right;\">\n",
       "      <th></th>\n",
       "      <th>Year</th>\n",
       "      <th>Amount in USD</th>\n",
       "    </tr>\n",
       "  </thead>\n",
       "  <tbody>\n",
       "    <tr>\n",
       "      <th>0</th>\n",
       "      <td>2015.0</td>\n",
       "      <td>933</td>\n",
       "    </tr>\n",
       "    <tr>\n",
       "      <th>1</th>\n",
       "      <td>2016.0</td>\n",
       "      <td>993</td>\n",
       "    </tr>\n",
       "    <tr>\n",
       "      <th>2</th>\n",
       "      <td>2017.0</td>\n",
       "      <td>687</td>\n",
       "    </tr>\n",
       "    <tr>\n",
       "      <th>3</th>\n",
       "      <td>2018.0</td>\n",
       "      <td>309</td>\n",
       "    </tr>\n",
       "    <tr>\n",
       "      <th>4</th>\n",
       "      <td>2019.0</td>\n",
       "      <td>105</td>\n",
       "    </tr>\n",
       "    <tr>\n",
       "      <th>5</th>\n",
       "      <td>2020.0</td>\n",
       "      <td>7</td>\n",
       "    </tr>\n",
       "  </tbody>\n",
       "</table>\n",
       "</div>"
      ],
      "text/plain": [
       "     Year  Amount in USD\n",
       "0  2015.0            933\n",
       "1  2016.0            993\n",
       "2  2017.0            687\n",
       "3  2018.0            309\n",
       "4  2019.0            105\n",
       "5  2020.0              7"
      ]
     },
     "execution_count": 189,
     "metadata": {},
     "output_type": "execute_result"
    }
   ],
   "source": [
    "#Note here I am using size() instead of count() because in info() year count is 3041\n",
    "#whereas \"Amount in USD \" is 2066 , and after fillig the 971  \"NA\" values with zero I have now have 3037 non null values.\n",
    "#and if i use count() then it will not include the null or zero values, but if year is present means funding\n",
    "#is been provided but the data is missing\n",
    "\n",
    "Year_wise_funding_count=df.groupby('Year')['Amount in USD'].size().reset_index()\n",
    "Year_wise_funding_count"
   ]
  },
  {
   "cell_type": "markdown",
   "id": "11406fe1",
   "metadata": {
    "id": "skFJ7C3D4MEv",
    "papermill": {
     "duration": 0.041552,
     "end_time": "2023-08-09T08:52:28.058499",
     "exception": false,
     "start_time": "2023-08-09T08:52:28.016947",
     "status": "completed"
    },
    "tags": []
   },
   "source": [
    "**5) Plot a line graph between year and number of fundings.Take year on x-axis and number of fundings on y-axis.**"
   ]
  },
  {
   "cell_type": "code",
   "execution_count": 190,
   "id": "62a330be",
   "metadata": {
    "execution": {
     "iopub.execute_input": "2023-08-09T08:52:28.144694Z",
     "iopub.status.busy": "2023-08-09T08:52:28.143712Z",
     "iopub.status.idle": "2023-08-09T08:52:28.511624Z",
     "shell.execute_reply": "2023-08-09T08:52:28.510466Z"
    },
    "id": "7iA_F8zO1EFy",
    "outputId": "86210c94-6624-47e6-f950-946c7b3527ff",
    "papermill": {
     "duration": 0.413558,
     "end_time": "2023-08-09T08:52:28.514387",
     "exception": false,
     "start_time": "2023-08-09T08:52:28.100829",
     "status": "completed"
    },
    "tags": []
   },
   "outputs": [
    {
     "data": {
      "text/plain": [
       "([<matplotlib.axis.YTick at 0x2131db1c610>,\n",
       "  <matplotlib.axis.YTick at 0x2131db22e50>,\n",
       "  <matplotlib.axis.YTick at 0x2131d9a2d60>,\n",
       "  <matplotlib.axis.YTick at 0x2131d9a8400>,\n",
       "  <matplotlib.axis.YTick at 0x2131d9a8b50>,\n",
       "  <matplotlib.axis.YTick at 0x2131d9ad2e0>],\n",
       " [Text(0, 0, ''),\n",
       "  Text(0, 0, ''),\n",
       "  Text(0, 0, ''),\n",
       "  Text(0, 0, ''),\n",
       "  Text(0, 0, ''),\n",
       "  Text(0, 0, '')])"
      ]
     },
     "execution_count": 190,
     "metadata": {},
     "output_type": "execute_result"
    },
    {
     "data": {
      "image/png": "[encoded data removed]",
      "text/plain": [
       "<Figure size 432x288 with 1 Axes>"
      ]
     },
     "metadata": {
      "needs_background": "light"
     },
     "output_type": "display_data"
    }
   ],
   "source": [
    "sns.lineplot(x='Year',y='Amount in USD', data=Year_wise_funding_count, linewidth=2, color='red', marker='o')\n",
    "plt.xlabel('Year',fontsize=12)\n",
    "plt.ylabel('Number of Fundings', fontsize=12)\n",
    "plt.title('Number of fundings / Year', fontsize=15)\n",
    "plt.yticks(Year_wise_funding_count['Amount in USD'])"
   ]
  },
  {
   "cell_type": "markdown",
   "id": "9a95f5cb",
   "metadata": {
    "id": "lWc_FsIa8GnL",
    "papermill": {
     "duration": 0.042234,
     "end_time": "2023-08-09T08:52:28.598786",
     "exception": false,
     "start_time": "2023-08-09T08:52:28.556552",
     "status": "completed"
    },
    "tags": []
   },
   "source": [
    "**6)Print year-wise total number of fundings also. Print years in ascending order.**"
   ]
  },
  {
   "cell_type": "code",
   "execution_count": 191,
   "id": "c793e89e",
   "metadata": {
    "execution": {
     "iopub.execute_input": "2023-08-09T08:52:28.688312Z",
     "iopub.status.busy": "2023-08-09T08:52:28.687879Z",
     "iopub.status.idle": "2023-08-09T08:52:28.702219Z",
     "shell.execute_reply": "2023-08-09T08:52:28.701386Z"
    },
    "id": "dF1mnpQ51D_H",
    "outputId": "5f8a7c39-f275-4420-be4a-344b3865b2ad",
    "papermill": {
     "duration": 0.062577,
     "end_time": "2023-08-09T08:52:28.704453",
     "exception": false,
     "start_time": "2023-08-09T08:52:28.641876",
     "status": "completed"
    },
    "tags": []
   },
   "outputs": [
    {
     "data": {
      "text/html": [
       "<div>\n",
       "<style scoped>\n",
       "    .dataframe tbody tr th:only-of-type {\n",
       "        vertical-align: middle;\n",
       "    }\n",
       "\n",
       "    .dataframe tbody tr th {\n",
       "        vertical-align: top;\n",
       "    }\n",
       "\n",
       "    .dataframe thead th {\n",
       "        text-align: right;\n",
       "    }\n",
       "</style>\n",
       "<table border=\"1\" class=\"dataframe\">\n",
       "  <thead>\n",
       "    <tr style=\"text-align: right;\">\n",
       "      <th></th>\n",
       "      <th>Year</th>\n",
       "      <th>Amount in USD</th>\n",
       "    </tr>\n",
       "  </thead>\n",
       "  <tbody>\n",
       "    <tr>\n",
       "      <th>0</th>\n",
       "      <td>2015.0</td>\n",
       "      <td>8.600357e+09</td>\n",
       "    </tr>\n",
       "    <tr>\n",
       "      <th>1</th>\n",
       "      <td>2016.0</td>\n",
       "      <td>3.828089e+09</td>\n",
       "    </tr>\n",
       "    <tr>\n",
       "      <th>2</th>\n",
       "      <td>2017.0</td>\n",
       "      <td>1.042931e+10</td>\n",
       "    </tr>\n",
       "    <tr>\n",
       "      <th>3</th>\n",
       "      <td>2018.0</td>\n",
       "      <td>5.122368e+09</td>\n",
       "    </tr>\n",
       "    <tr>\n",
       "      <th>4</th>\n",
       "      <td>2019.0</td>\n",
       "      <td>9.700919e+09</td>\n",
       "    </tr>\n",
       "    <tr>\n",
       "      <th>5</th>\n",
       "      <td>2020.0</td>\n",
       "      <td>3.902073e+08</td>\n",
       "    </tr>\n",
       "  </tbody>\n",
       "</table>\n",
       "</div>"
      ],
      "text/plain": [
       "     Year  Amount in USD\n",
       "0  2015.0   8.600357e+09\n",
       "1  2016.0   3.828089e+09\n",
       "2  2017.0   1.042931e+10\n",
       "3  2018.0   5.122368e+09\n",
       "4  2019.0   9.700919e+09\n",
       "5  2020.0   3.902073e+08"
      ]
     },
     "execution_count": 191,
     "metadata": {},
     "output_type": "execute_result"
    }
   ],
   "source": [
    "Year_wise_funding_amount=df.groupby('Year')['Amount in USD'].sum().reset_index()\n",
    "Year_wise_funding_amount"
   ]
  },
  {
   "cell_type": "code",
   "execution_count": 192,
   "id": "2cffe349",
   "metadata": {
    "execution": {
     "iopub.execute_input": "2023-08-09T08:52:28.793091Z",
     "iopub.status.busy": "2023-08-09T08:52:28.792286Z",
     "iopub.status.idle": "2023-08-09T08:52:28.800236Z",
     "shell.execute_reply": "2023-08-09T08:52:28.798992Z"
    },
    "id": "bwqE54OQ-Zfg",
    "outputId": "27153352-3b34-470d-fc10-671fe12a041a",
    "papermill": {
     "duration": 0.055377,
     "end_time": "2023-08-09T08:52:28.802700",
     "exception": false,
     "start_time": "2023-08-09T08:52:28.747323",
     "status": "completed"
    },
    "tags": []
   },
   "outputs": [
    {
     "name": "stdout",
     "output_type": "stream",
     "text": [
      "\u001b[1mYear Wise Total Funding is as follows --\n",
      "\u001b[1m=>\u001b[0mIn year \u001b[1m2015\u001b[0m total funding received was \u001b[1m8600357368.0\u001b[0m\n",
      "\u001b[1m=>\u001b[0mIn year \u001b[1m2016\u001b[0m total funding received was \u001b[1m3828088608.0\u001b[0m\n",
      "\u001b[1m=>\u001b[0mIn year \u001b[1m2017\u001b[0m total funding received was \u001b[1m10429309730.0\u001b[0m\n",
      "\u001b[1m=>\u001b[0mIn year \u001b[1m2018\u001b[0m total funding received was \u001b[1m5122368369.0\u001b[0m\n",
      "\u001b[1m=>\u001b[0mIn year \u001b[1m2019\u001b[0m total funding received was \u001b[1m9700918535.22\u001b[0m\n",
      "\u001b[1m=>\u001b[0mIn year \u001b[1m2020\u001b[0m total funding received was \u001b[1m390207254.0\u001b[0m\n"
     ]
    }
   ],
   "source": [
    "bold = '\\033[1m'\n",
    "reset = '\\033[0m'\n",
    "year = Year_wise_funding_amount['Year']\n",
    "total_amount = Year_wise_funding_amount['Amount in USD']\n",
    "my_dict = dict(zip(year, total_amount))\n",
    "print(f'{bold}Year Wise Total Funding is as follows --')\n",
    "for key, value in my_dict.items():\n",
    "  print(f'{bold}=>{reset}In year {bold}{int(key)}{reset} total funding received was {bold}{value}{reset}')"
   ]
  },
  {
   "cell_type": "code",
   "execution_count": 193,
   "id": "3bd4898b",
   "metadata": {
    "execution": {
     "iopub.execute_input": "2023-08-09T08:52:28.892528Z",
     "iopub.status.busy": "2023-08-09T08:52:28.892068Z",
     "iopub.status.idle": "2023-08-09T08:52:29.188637Z",
     "shell.execute_reply": "2023-08-09T08:52:29.187328Z"
    },
    "id": "vnK-HPMjS6Bl",
    "outputId": "e9ca23c3-a5af-4c2e-af7a-aadf9410bee0",
    "papermill": {
     "duration": 0.34441,
     "end_time": "2023-08-09T08:52:29.191465",
     "exception": false,
     "start_time": "2023-08-09T08:52:28.847055",
     "status": "completed"
    },
    "tags": []
   },
   "outputs": [
    {
     "data": {
      "image/png": "[encoded data removed]",
      "text/plain": [
       "<Figure size 432x288 with 1 Axes>"
      ]
     },
     "metadata": {
      "needs_background": "light"
     },
     "output_type": "display_data"
    }
   ],
   "source": [
    "sns.lineplot(x='Year',y='Amount in USD', data=Year_wise_funding_amount, linewidth=1.5, color='blue', marker='o')\n",
    "plt.xlabel('Year',fontsize=12)\n",
    "plt.ylabel('Amount of Fundings in USD', fontsize=12)\n",
    "plt.title('Amount of fundings / Year', fontsize=15)\n",
    "plt.yticks(Year_wise_funding_amount['Amount in USD'])\n",
    "plt.ticklabel_format(style='plain', axis='y')"
   ]
  },
  {
   "cell_type": "markdown",
   "id": "09529620",
   "metadata": {
    "id": "VWHCqw49BcNX",
    "papermill": {
     "duration": 0.043491,
     "end_time": "2023-08-09T08:52:29.278919",
     "exception": false,
     "start_time": "2023-08-09T08:52:29.235428",
     "status": "completed"
    },
    "tags": []
   },
   "source": [
    "**Problem Statement :**\n",
    "\n",
    "7) Find out which cities are generally chosen for starting a startup.\n",
    "\n",
    "8) Find top 10 Indian cities which have most number of startups ?\n",
    "\n",
    "9) Plot a pie chart and visualise it.\n",
    "\n",
    "10) Print the city name and number of startups in that city also.\n"
   ]
  },
  {
   "cell_type": "markdown",
   "id": "640bb733",
   "metadata": {
    "id": "4Ev8920mY2GZ",
    "papermill": {
     "duration": 0.045195,
     "end_time": "2023-08-09T08:52:29.367899",
     "exception": false,
     "start_time": "2023-08-09T08:52:29.322704",
     "status": "completed"
    },
    "tags": []
   },
   "source": [
    "**Note**\n",
    "\n",
    "Take city name \"Delhi\" as \"New Delhi\".\n",
    "\n",
    "Check the case-sensitiveness of cities also. That means - at some place,\n",
    "instead of \"Bangalore\", \"bangalore\" is given. Take city name as \"Bangalore\".\n",
    "\n",
    "For few startups multiple locations are given, one Indian and one Foreign.\n",
    "\n",
    "Count those startups in Indian startup also. Indian city name is first.\n",
    "\n",
    "Print the city in descending order with respect to the number of startups.\n"
   ]
  },
  {
   "cell_type": "code",
   "execution_count": 194,
   "id": "76452e39",
   "metadata": {
    "execution": {
     "iopub.execute_input": "2023-08-09T08:52:29.458085Z",
     "iopub.status.busy": "2023-08-09T08:52:29.457166Z",
     "iopub.status.idle": "2023-08-09T08:52:29.465785Z",
     "shell.execute_reply": "2023-08-09T08:52:29.464673Z"
    },
    "id": "Fc3gDCoulcVN",
    "outputId": "41737463-5916-4c34-a269-53027510bee1",
    "papermill": {
     "duration": 0.056264,
     "end_time": "2023-08-09T08:52:29.468152",
     "exception": false,
     "start_time": "2023-08-09T08:52:29.411888",
     "status": "completed"
    },
    "tags": []
   },
   "outputs": [
    {
     "data": {
      "text/plain": [
       "array(['Bengaluru', 'Gurgaon', 'New Delhi', 'Mumbai', 'Chennai', 'Pune',\n",
       "       'Noida', 'Faridabad', 'San Francisco', 'San Jose,', 'Amritsar',\n",
       "       'Delhi', 'Kormangala', 'Tulangan', 'Hyderabad', 'Burnsville',\n",
       "       'Menlo Park', 'Gurugram', 'Palo Alto', 'Santa Monica', 'Singapore',\n",
       "       'Taramani', 'Andheri', 'Chembur', 'Nairobi', 'Haryana', 'New York',\n",
       "       'Karnataka', 'Mumbai/Bengaluru', 'Bhopal',\n",
       "       'Bengaluru and Gurugram', 'India/Singapore', 'Jaipur', 'India/US',\n",
       "       'Nagpur', 'Indore', 'New York, Bengaluru', 'California', 'India',\n",
       "       'Ahemadabad', 'Rourkela', 'Srinagar', 'Bhubneswar', 'Chandigarh',\n",
       "       'Delhi & Cambridge', 'Kolkatta', 'Kolkata', 'Coimbatore',\n",
       "       'Bangalore', 'Udaipur', nan, 'Ahemdabad', 'Bhubaneswar',\n",
       "       'Ahmedabad', 'Surat', 'Goa', 'Uttar Pradesh', 'Nw Delhi', 'Gaya',\n",
       "       'Vadodara', 'Trivandrum', 'Missourie', 'Panaji', 'Gwalior',\n",
       "       'Karur', 'Udupi', 'Kochi', 'Agra', 'Bangalore/ Bangkok', 'Hubli',\n",
       "       'Kerala', 'Kozhikode', 'US', 'Siliguri', 'USA', 'Lucknow',\n",
       "       'Kanpur', 'SFO / Bangalore', 'London', 'Seattle / Bangalore',\n",
       "       'Pune/Seattle', 'Pune / Dubai', 'Bangalore / SFO', 'Varanasi',\n",
       "       'New Delhi / US', 'Mumbai / UK', 'Jodhpur', 'Hyderabad/USA',\n",
       "       'Boston', 'Bangalore / Palo Alto', 'Mumbai / NY', 'USA/India',\n",
       "       'Goa/Hyderabad', 'Noida / Singapore', 'Belgaum', 'Pune / US',\n",
       "       'Chennai/ Singapore', 'Pune / Singapore', 'Bangalore / San Mateo',\n",
       "       'New York/ India', 'US/India', 'Gurgaon / SFO', 'Bangalore / USA',\n",
       "       'New Delhi/ Houston', 'Mumbai / Global', 'India / US',\n",
       "       '\\\\\\\\xc2\\\\\\\\xa0Noida', '\\\\\\\\xc2\\\\\\\\xa0Bangalore',\n",
       "       '\\\\\\\\xc2\\\\\\\\xa0Gurgaon', '\\\\\\\\xc2\\\\\\\\xa0New Delhi',\n",
       "       '\\\\\\\\xc2\\\\\\\\xa0Mumbai', 'New Delhi / California',\n",
       "       'Dallas / Hyderabad'], dtype=object)"
      ]
     },
     "execution_count": 194,
     "metadata": {},
     "output_type": "execute_result"
    }
   ],
   "source": [
    "df['City  Location'].unique()"
   ]
  },
  {
   "cell_type": "code",
   "execution_count": 195,
   "id": "79f1c2e7",
   "metadata": {
    "execution": {
     "iopub.execute_input": "2023-08-09T08:52:29.559969Z",
     "iopub.status.busy": "2023-08-09T08:52:29.558781Z",
     "iopub.status.idle": "2023-08-09T08:52:29.569423Z",
     "shell.execute_reply": "2023-08-09T08:52:29.568475Z"
    },
    "id": "LhZoczy08X5B",
    "papermill": {
     "duration": 0.059156,
     "end_time": "2023-08-09T08:52:29.572252",
     "exception": false,
     "start_time": "2023-08-09T08:52:29.513096",
     "status": "completed"
    },
    "tags": []
   },
   "outputs": [],
   "source": [
    "df.dropna(subset=['City  Location'], inplace=True)"
   ]
  },
  {
   "cell_type": "code",
   "execution_count": 196,
   "id": "e10182c2",
   "metadata": {
    "execution": {
     "iopub.execute_input": "2023-08-09T08:52:29.663986Z",
     "iopub.status.busy": "2023-08-09T08:52:29.663523Z",
     "iopub.status.idle": "2023-08-09T08:52:29.671597Z",
     "shell.execute_reply": "2023-08-09T08:52:29.670645Z"
    },
    "id": "mg2RFfen8FW3",
    "papermill": {
     "duration": 0.055918,
     "end_time": "2023-08-09T08:52:29.673787",
     "exception": false,
     "start_time": "2023-08-09T08:52:29.617869",
     "status": "completed"
    },
    "tags": []
   },
   "outputs": [],
   "source": [
    "#For few startups multiple locations are given, one Indian and one Foreign.\n",
    "#therefore taking  those startups in Indian startup also.\n",
    "#In most of the cases Indian city names are at first position, so taking only first position.\n",
    "\n",
    "df['City  Location']=df['City  Location'].apply(lambda x : x.split('/')[0] if '/' in x else x)"
   ]
  },
  {
   "cell_type": "code",
   "execution_count": 197,
   "id": "1a5b8a51",
   "metadata": {
    "execution": {
     "iopub.execute_input": "2023-08-09T08:52:29.765860Z",
     "iopub.status.busy": "2023-08-09T08:52:29.764592Z",
     "iopub.status.idle": "2023-08-09T08:52:29.786693Z",
     "shell.execute_reply": "2023-08-09T08:52:29.785418Z"
    },
    "id": "taYBEZiuaLw7",
    "papermill": {
     "duration": 0.071668,
     "end_time": "2023-08-09T08:52:29.789677",
     "exception": false,
     "start_time": "2023-08-09T08:52:29.718009",
     "status": "completed"
    },
    "tags": []
   },
   "outputs": [],
   "source": [
    "#Cleaning the data in \"City  Location\" column\n",
    "#correcting the values which are indicating the same cities but have variation in spellings and are case sensitive\n",
    "#and also correcting the values which are not in proper string format.\n",
    "\n",
    "df['City  Location'] = df['City  Location'].replace('Delhi', 'New Delhi')\n",
    "df['City  Location'] = df['City  Location'].replace('Bengaluru', 'Bangalore')\n",
    "df['City  Location'] = df['City  Location'].replace('Gurugram', 'Gurgaon')\n",
    "df['City  Location'] = df['City  Location'].replace('New York, Bengaluru', 'Bangalore')\n",
    "df['City  Location'] = df['City  Location'].replace('Delhi & Cambridge', 'New Delhi')\n",
    "df['City  Location'] = df['City  Location'].replace('Kolkatta', 'Kolkata')\n",
    "df['City  Location'] = df['City  Location'].replace('Ahemadabad', 'Ahemdabad')\n",
    "df['City  Location'] = df['City  Location'].replace('Bhubaneswar', 'Bhubneswar')\n",
    "df['City  Location'] = df['City  Location'].replace('Nw Delhi', 'New Delhi')\n",
    "df['City  Location'] = df['City  Location'].replace('\\\\\\\\xc2\\\\\\\\xa0Noida', 'Noida')\n",
    "df['City  Location'] = df['City  Location'].replace('\\\\\\\\xc2\\\\\\\\xa0Bangalore', 'Bangalore')\n",
    "df['City  Location'] = df['City  Location'].replace('\\\\\\\\xc2\\\\\\\\xa0Gurgaon', 'Gurgaon')\n",
    "df['City  Location'] = df['City  Location'].replace('\\\\\\\\xc2\\\\\\\\xa0New Delhi', 'New Delhi')\n",
    "df['City  Location'] = df['City  Location'].replace('\\\\\\\\xc2\\\\\\\\xa0Mumbai', 'Mumbai')"
   ]
  },
  {
   "cell_type": "code",
   "execution_count": 198,
   "id": "aab8817a",
   "metadata": {
    "execution": {
     "iopub.execute_input": "2023-08-09T08:52:29.879686Z",
     "iopub.status.busy": "2023-08-09T08:52:29.879213Z",
     "iopub.status.idle": "2023-08-09T08:52:29.886412Z",
     "shell.execute_reply": "2023-08-09T08:52:29.885353Z"
    },
    "id": "wFvn2xEkbHgp",
    "papermill": {
     "duration": 0.055643,
     "end_time": "2023-08-09T08:52:29.888967",
     "exception": false,
     "start_time": "2023-08-09T08:52:29.833324",
     "status": "completed"
    },
    "tags": []
   },
   "outputs": [],
   "source": [
    "#After doing above operation \"Delhi\" will be replaced by \"New Delhi\"\n",
    "#But \"New Delhi\" which is already present will also changed to \"New New Delhi\"\n",
    "#Hence overcoming this situation, I am replacing extra \"New\" word with \"Blank Space\"\n",
    "\n",
    "df['City  Location'] = df['City  Location'].replace('New','')"
   ]
  },
  {
   "cell_type": "markdown",
   "id": "29d7ca30",
   "metadata": {
    "id": "WwqbHRs7tceC",
    "papermill": {
     "duration": 0.043561,
     "end_time": "2023-08-09T08:52:29.976600",
     "exception": false,
     "start_time": "2023-08-09T08:52:29.933039",
     "status": "completed"
    },
    "tags": []
   },
   "source": [
    "**7) Find out which cities are generally chosen for starting a startup.**"
   ]
  },
  {
   "cell_type": "code",
   "execution_count": 199,
   "id": "46f0d552",
   "metadata": {
    "execution": {
     "iopub.execute_input": "2023-08-09T08:52:30.066993Z",
     "iopub.status.busy": "2023-08-09T08:52:30.066571Z",
     "iopub.status.idle": "2023-08-09T08:52:30.080988Z",
     "shell.execute_reply": "2023-08-09T08:52:30.079711Z"
    },
    "id": "crhA1lKWkj0Y",
    "outputId": "da26886d-732e-4cc7-ba6d-8b183436cdc3",
    "papermill": {
     "duration": 0.062327,
     "end_time": "2023-08-09T08:52:30.083308",
     "exception": false,
     "start_time": "2023-08-09T08:52:30.020981",
     "status": "completed"
    },
    "tags": []
   },
   "outputs": [
    {
     "data": {
      "text/html": [
       "<div>\n",
       "<style scoped>\n",
       "    .dataframe tbody tr th:only-of-type {\n",
       "        vertical-align: middle;\n",
       "    }\n",
       "\n",
       "    .dataframe tbody tr th {\n",
       "        vertical-align: top;\n",
       "    }\n",
       "\n",
       "    .dataframe thead th {\n",
       "        text-align: right;\n",
       "    }\n",
       "</style>\n",
       "<table border=\"1\" class=\"dataframe\">\n",
       "  <thead>\n",
       "    <tr style=\"text-align: right;\">\n",
       "      <th></th>\n",
       "      <th>index</th>\n",
       "      <th>City  Location</th>\n",
       "    </tr>\n",
       "  </thead>\n",
       "  <tbody>\n",
       "    <tr>\n",
       "      <th>0</th>\n",
       "      <td>Bangalore</td>\n",
       "      <td>844</td>\n",
       "    </tr>\n",
       "    <tr>\n",
       "      <th>1</th>\n",
       "      <td>Mumbai</td>\n",
       "      <td>570</td>\n",
       "    </tr>\n",
       "    <tr>\n",
       "      <th>2</th>\n",
       "      <td>New Delhi</td>\n",
       "      <td>460</td>\n",
       "    </tr>\n",
       "    <tr>\n",
       "      <th>3</th>\n",
       "      <td>Gurgaon</td>\n",
       "      <td>336</td>\n",
       "    </tr>\n",
       "    <tr>\n",
       "      <th>4</th>\n",
       "      <td>Pune</td>\n",
       "      <td>106</td>\n",
       "    </tr>\n",
       "    <tr>\n",
       "      <th>5</th>\n",
       "      <td>Hyderabad</td>\n",
       "      <td>100</td>\n",
       "    </tr>\n",
       "    <tr>\n",
       "      <th>6</th>\n",
       "      <td>Chennai</td>\n",
       "      <td>98</td>\n",
       "    </tr>\n",
       "    <tr>\n",
       "      <th>7</th>\n",
       "      <td>Noida</td>\n",
       "      <td>93</td>\n",
       "    </tr>\n",
       "    <tr>\n",
       "      <th>8</th>\n",
       "      <td>Ahmedabad</td>\n",
       "      <td>38</td>\n",
       "    </tr>\n",
       "    <tr>\n",
       "      <th>9</th>\n",
       "      <td>Jaipur</td>\n",
       "      <td>30</td>\n",
       "    </tr>\n",
       "  </tbody>\n",
       "</table>\n",
       "</div>"
      ],
      "text/plain": [
       "       index  City  Location\n",
       "0  Bangalore             844\n",
       "1     Mumbai             570\n",
       "2  New Delhi             460\n",
       "3    Gurgaon             336\n",
       "4       Pune             106\n",
       "5  Hyderabad             100\n",
       "6    Chennai              98\n",
       "7      Noida              93\n",
       "8  Ahmedabad              38\n",
       "9     Jaipur              30"
      ]
     },
     "execution_count": 199,
     "metadata": {},
     "output_type": "execute_result"
    }
   ],
   "source": [
    "#list of cities are generally chosen for starting a startup\n",
    "\n",
    "cities = df['City  Location'].value_counts().reset_index().head(10)\n",
    "cities"
   ]
  },
  {
   "cell_type": "markdown",
   "id": "5556bb36",
   "metadata": {
    "id": "A2hrCEzZUriO",
    "papermill": {
     "duration": 0.043891,
     "end_time": "2023-08-09T08:52:30.171607",
     "exception": false,
     "start_time": "2023-08-09T08:52:30.127716",
     "status": "completed"
    },
    "tags": []
   },
   "source": [
    "**8) Find top 10 Indian cities which have most number of startups ?**"
   ]
  },
  {
   "cell_type": "code",
   "execution_count": 200,
   "id": "4a933e68",
   "metadata": {
    "execution": {
     "iopub.execute_input": "2023-08-09T08:52:30.262906Z",
     "iopub.status.busy": "2023-08-09T08:52:30.262475Z",
     "iopub.status.idle": "2023-08-09T08:52:30.277618Z",
     "shell.execute_reply": "2023-08-09T08:52:30.276459Z"
    },
    "id": "ooK7YFdjTtUp",
    "outputId": "c667dc97-9e25-41c7-c4ef-e7745b3ca297",
    "papermill": {
     "duration": 0.064116,
     "end_time": "2023-08-09T08:52:30.280146",
     "exception": false,
     "start_time": "2023-08-09T08:52:30.216030",
     "status": "completed"
    },
    "tags": []
   },
   "outputs": [
    {
     "data": {
      "text/html": [
       "<div>\n",
       "<style scoped>\n",
       "    .dataframe tbody tr th:only-of-type {\n",
       "        vertical-align: middle;\n",
       "    }\n",
       "\n",
       "    .dataframe tbody tr th {\n",
       "        vertical-align: top;\n",
       "    }\n",
       "\n",
       "    .dataframe thead th {\n",
       "        text-align: right;\n",
       "    }\n",
       "</style>\n",
       "<table border=\"1\" class=\"dataframe\">\n",
       "  <thead>\n",
       "    <tr style=\"text-align: right;\">\n",
       "      <th></th>\n",
       "      <th>City  Location</th>\n",
       "      <th>Startup Name</th>\n",
       "    </tr>\n",
       "  </thead>\n",
       "  <tbody>\n",
       "    <tr>\n",
       "      <th>0</th>\n",
       "      <td>Bangalore</td>\n",
       "      <td>844</td>\n",
       "    </tr>\n",
       "    <tr>\n",
       "      <th>1</th>\n",
       "      <td>Mumbai</td>\n",
       "      <td>570</td>\n",
       "    </tr>\n",
       "    <tr>\n",
       "      <th>2</th>\n",
       "      <td>New Delhi</td>\n",
       "      <td>460</td>\n",
       "    </tr>\n",
       "    <tr>\n",
       "      <th>3</th>\n",
       "      <td>Gurgaon</td>\n",
       "      <td>336</td>\n",
       "    </tr>\n",
       "    <tr>\n",
       "      <th>4</th>\n",
       "      <td>Pune</td>\n",
       "      <td>106</td>\n",
       "    </tr>\n",
       "    <tr>\n",
       "      <th>5</th>\n",
       "      <td>Hyderabad</td>\n",
       "      <td>100</td>\n",
       "    </tr>\n",
       "    <tr>\n",
       "      <th>6</th>\n",
       "      <td>Chennai</td>\n",
       "      <td>98</td>\n",
       "    </tr>\n",
       "    <tr>\n",
       "      <th>7</th>\n",
       "      <td>Noida</td>\n",
       "      <td>93</td>\n",
       "    </tr>\n",
       "    <tr>\n",
       "      <th>8</th>\n",
       "      <td>Ahmedabad</td>\n",
       "      <td>38</td>\n",
       "    </tr>\n",
       "    <tr>\n",
       "      <th>9</th>\n",
       "      <td>Jaipur</td>\n",
       "      <td>30</td>\n",
       "    </tr>\n",
       "  </tbody>\n",
       "</table>\n",
       "</div>"
      ],
      "text/plain": [
       "  City  Location  Startup Name\n",
       "0      Bangalore           844\n",
       "1         Mumbai           570\n",
       "2      New Delhi           460\n",
       "3        Gurgaon           336\n",
       "4           Pune           106\n",
       "5      Hyderabad           100\n",
       "6        Chennai            98\n",
       "7          Noida            93\n",
       "8      Ahmedabad            38\n",
       "9         Jaipur            30"
      ]
     },
     "execution_count": 200,
     "metadata": {},
     "output_type": "execute_result"
    }
   ],
   "source": [
    "#list of top 10 Indian cities which have most number of startups.\n",
    "\n",
    "top_ten_city = df.groupby('City  Location')['Startup Name'].size().sort_values(ascending=False).reset_index().head(10)\n",
    "top_ten_city"
   ]
  },
  {
   "cell_type": "markdown",
   "id": "9005fb35",
   "metadata": {
    "id": "6WaMZHJAWqcC",
    "papermill": {
     "duration": 0.047044,
     "end_time": "2023-08-09T08:52:30.372666",
     "exception": false,
     "start_time": "2023-08-09T08:52:30.325622",
     "status": "completed"
    },
    "tags": []
   },
   "source": [
    "**9) Plot a pie chart and visualise it.**"
   ]
  },
  {
   "cell_type": "code",
   "execution_count": 201,
   "id": "68415be2",
   "metadata": {
    "execution": {
     "iopub.execute_input": "2023-08-09T08:52:30.473743Z",
     "iopub.status.busy": "2023-08-09T08:52:30.472922Z",
     "iopub.status.idle": "2023-08-09T08:52:30.730880Z",
     "shell.execute_reply": "2023-08-09T08:52:30.729638Z"
    },
    "id": "Ohr_4BvgW_fY",
    "outputId": "d935241c-507a-4b43-a7b7-2d96e7d5adb0",
    "papermill": {
     "duration": 0.313306,
     "end_time": "2023-08-09T08:52:30.737010",
     "exception": false,
     "start_time": "2023-08-09T08:52:30.423704",
     "status": "completed"
    },
    "tags": []
   },
   "outputs": [
    {
     "data": {
      "text/plain": [
       "([<matplotlib.patches.Wedge at 0x2131da48820>,\n",
       "  <matplotlib.patches.Wedge at 0x2131da48fd0>,\n",
       "  <matplotlib.patches.Wedge at 0x2131da54730>,\n",
       "  <matplotlib.patches.Wedge at 0x2131da54e50>,\n",
       "  <matplotlib.patches.Wedge at 0x2131da625b0>,\n",
       "  <matplotlib.patches.Wedge at 0x2131da62cd0>,\n",
       "  <matplotlib.patches.Wedge at 0x2131da6f430>,\n",
       "  <matplotlib.patches.Wedge at 0x2131da6fb50>,\n",
       "  <matplotlib.patches.Wedge at 0x2131da7b2b0>,\n",
       "  <matplotlib.patches.Wedge at 0x2131da7b9d0>],\n",
       " [Text(0.6024396236574787, 0.9203621568966401, 'Bangalore'),\n",
       "  Text(-0.9707027530029663, 0.5174322808952515, 'Mumbai'),\n",
       "  Text(-0.8270414660858142, -0.725260238379733, 'New Delhi'),\n",
       "  Text(0.09226028790342534, -1.0961240984833684, 'Gurgaon'),\n",
       "  Text(0.6238895392981886, -0.9059590734433285, 'Pune'),\n",
       "  Text(0.8227685461007729, -0.7301040470694712, 'Hyderabad'),\n",
       "  Text(0.9688736851518865, -0.5208490973594975, 'Chennai'),\n",
       "  Text(1.0604573102392387, -0.2922846098585402, 'Noida'),\n",
       "  Text(1.092722421907488, -0.12632382459628835, 'Ahmedabad'),\n",
       "  Text(1.0993173308868678, -0.03874798074445947, 'Jaipur')],\n",
       " [Text(0.32860343108589746, 0.5020157219436219, '31.55%'),\n",
       "  Text(-0.5294742289107088, 0.28223578957922807, '21.31%'),\n",
       "  Text(-0.45111352695589857, -0.3955964936616725, '17.20%'),\n",
       "  Text(0.05032379340186837, -0.5978858719000191, '12.56%'),\n",
       "  Text(0.3403033850717392, -0.49415949460545183, '3.96%'),\n",
       "  Text(0.4487828433276943, -0.3982385711288024, '3.74%'),\n",
       "  Text(0.5284765555373926, -0.2840995076506349, '3.66%'),\n",
       "  Text(0.5784312601304938, -0.15942796901374917, '3.48%'),\n",
       "  Text(0.5960304119495389, -0.06890390432524819, '1.42%'),\n",
       "  Text(0.5996276350292006, -0.021135262224250616, '1.12%')])"
      ]
     },
     "execution_count": 201,
     "metadata": {},
     "output_type": "execute_result"
    },
    {
     "data": {
      "image/png": "[encoded data removed]",
      "text/plain": [
       "<Figure size 1440x576 with 1 Axes>"
      ]
     },
     "metadata": {},
     "output_type": "display_data"
    }
   ],
   "source": [
    "plt.figure(figsize=(20,8))\n",
    "plt.pie(cities['City  Location'], labels=cities['index'], autopct='%0.2f%%')"
   ]
  },
  {
   "cell_type": "markdown",
   "id": "8027a18c",
   "metadata": {
    "id": "0rAmGoIYvjeN",
    "papermill": {
     "duration": 0.045126,
     "end_time": "2023-08-09T08:52:30.847473",
     "exception": false,
     "start_time": "2023-08-09T08:52:30.802347",
     "status": "completed"
    },
    "tags": []
   },
   "source": [
    "**10) Print the city name and number of startups in that city also.**"
   ]
  },
  {
   "cell_type": "code",
   "execution_count": 202,
   "id": "b3f660f3",
   "metadata": {
    "execution": {
     "iopub.execute_input": "2023-08-09T08:52:30.940995Z",
     "iopub.status.busy": "2023-08-09T08:52:30.940529Z",
     "iopub.status.idle": "2023-08-09T08:52:30.949195Z",
     "shell.execute_reply": "2023-08-09T08:52:30.948242Z"
    },
    "id": "tynuYz8svfY1",
    "papermill": {
     "duration": 0.058873,
     "end_time": "2023-08-09T08:52:30.951647",
     "exception": false,
     "start_time": "2023-08-09T08:52:30.892774",
     "status": "completed"
    },
    "tags": []
   },
   "outputs": [],
   "source": [
    "ncities = df['City  Location'].value_counts().reset_index().head(20)"
   ]
  },
  {
   "cell_type": "code",
   "execution_count": 203,
   "id": "58c7d543",
   "metadata": {
    "execution": {
     "iopub.execute_input": "2023-08-09T08:52:31.045673Z",
     "iopub.status.busy": "2023-08-09T08:52:31.044396Z",
     "iopub.status.idle": "2023-08-09T08:52:31.053845Z",
     "shell.execute_reply": "2023-08-09T08:52:31.052116Z"
    },
    "id": "HPmPXnyNvfVH",
    "outputId": "7c4f6b7d-fe69-4302-9501-1ed63ed44837",
    "papermill": {
     "duration": 0.059053,
     "end_time": "2023-08-09T08:52:31.056197",
     "exception": false,
     "start_time": "2023-08-09T08:52:30.997144",
     "status": "completed"
    },
    "tags": []
   },
   "outputs": [
    {
     "name": "stdout",
     "output_type": "stream",
     "text": [
      "City named \u001b[1mBangalore\u001b[0m have \u001b[1m844\u001b[0m number of Startup\n",
      "City named \u001b[1mMumbai\u001b[0m have \u001b[1m570\u001b[0m number of Startup\n",
      "City named \u001b[1mNew Delhi\u001b[0m have \u001b[1m460\u001b[0m number of Startup\n",
      "City named \u001b[1mGurgaon\u001b[0m have \u001b[1m336\u001b[0m number of Startup\n",
      "City named \u001b[1mPune\u001b[0m have \u001b[1m106\u001b[0m number of Startup\n",
      "City named \u001b[1mHyderabad\u001b[0m have \u001b[1m100\u001b[0m number of Startup\n",
      "City named \u001b[1mChennai\u001b[0m have \u001b[1m98\u001b[0m number of Startup\n",
      "City named \u001b[1mNoida\u001b[0m have \u001b[1m93\u001b[0m number of Startup\n",
      "City named \u001b[1mAhmedabad\u001b[0m have \u001b[1m38\u001b[0m number of Startup\n",
      "City named \u001b[1mJaipur\u001b[0m have \u001b[1m30\u001b[0m number of Startup\n",
      "City named \u001b[1mKolkata\u001b[0m have \u001b[1m22\u001b[0m number of Startup\n",
      "City named \u001b[1mIndore\u001b[0m have \u001b[1m13\u001b[0m number of Startup\n",
      "City named \u001b[1mGoa\u001b[0m have \u001b[1m11\u001b[0m number of Startup\n",
      "City named \u001b[1mChandigarh\u001b[0m have \u001b[1m11\u001b[0m number of Startup\n",
      "City named \u001b[1mVadodara\u001b[0m have \u001b[1m10\u001b[0m number of Startup\n",
      "City named \u001b[1mSingapore\u001b[0m have \u001b[1m8\u001b[0m number of Startup\n",
      "City named \u001b[1mPune \u001b[0m have \u001b[1m6\u001b[0m number of Startup\n",
      "City named \u001b[1mBangalore \u001b[0m have \u001b[1m5\u001b[0m number of Startup\n",
      "City named \u001b[1mCoimbatore\u001b[0m have \u001b[1m5\u001b[0m number of Startup\n",
      "City named \u001b[1mIndia\u001b[0m have \u001b[1m4\u001b[0m number of Startup\n"
     ]
    }
   ],
   "source": [
    "bold='\\033[1m'\n",
    "reset = '\\033[0m'\n",
    "city = ncities['index']\n",
    "startups = ncities['City  Location']\n",
    "my_dict2 = dict(zip(city,startups))\n",
    "for key, value in my_dict2.items():\n",
    "  print(f'City named {bold}{key}{reset} have {bold}{value}{reset} number of Startup')"
   ]
  },
  {
   "cell_type": "markdown",
   "id": "e6233093",
   "metadata": {
    "id": "2TPgaUsABNBX",
    "papermill": {
     "duration": 0.045666,
     "end_time": "2023-08-09T08:52:31.147301",
     "exception": false,
     "start_time": "2023-08-09T08:52:31.101635",
     "status": "completed"
    },
    "tags": []
   },
   "source": [
    "**Problem Statement :**\n",
    "\n",
    "11) Find out if cities play any role in receiving funding.\n",
    "\n",
    "12) Find top 10 Indian cities with most amount of fundings received.\n",
    "\n",
    "13) Find out percentage of funding each city has got (among top 10 Indian cities only).\n",
    "\n",
    "14) Print the city and percentage with 2 decimal place after rounding off.\n",
    "\n",
    "**Note:**\n",
    "Take city name \"Delhi\" as \"New Delhi\".\n",
    "\n",
    "Check the case-sensitiveness of cities also. That means - at some place,\n",
    "\n",
    "instead of \"Bangalore\", \"bangalore\" is given. Take city name as \"Bangalore\".\n",
    "\n",
    "For few startups multiple locations are given, one Indian and one Foreign.\n",
    "\n",
    "Count those startups in Indian startup also. Indian city name is first.\n",
    "\n",
    "Print the city in descending order with respect to the percentage of funding.\n"
   ]
  },
  {
   "cell_type": "markdown",
   "id": "68376cf3",
   "metadata": {
    "id": "lpQI_WfyH1AX",
    "papermill": {
     "duration": 0.045118,
     "end_time": "2023-08-09T08:52:31.238498",
     "exception": false,
     "start_time": "2023-08-09T08:52:31.193380",
     "status": "completed"
    },
    "tags": []
   },
   "source": [
    "**11) Find out if cities play any role in receiving funding.**"
   ]
  },
  {
   "cell_type": "code",
   "execution_count": 204,
   "id": "3b8e9b2e",
   "metadata": {
    "execution": {
     "iopub.execute_input": "2023-08-09T08:52:31.332492Z",
     "iopub.status.busy": "2023-08-09T08:52:31.332011Z",
     "iopub.status.idle": "2023-08-09T08:52:31.343981Z",
     "shell.execute_reply": "2023-08-09T08:52:31.342212Z"
    },
    "id": "WH-a3aFGvfQh",
    "outputId": "d7e357be-0d55-447d-ed9a-a9079fd0081c",
    "papermill": {
     "duration": 0.061942,
     "end_time": "2023-08-09T08:52:31.346441",
     "exception": false,
     "start_time": "2023-08-09T08:52:31.284499",
     "status": "completed"
    },
    "tags": []
   },
   "outputs": [
    {
     "name": "stdout",
     "output_type": "stream",
     "text": [
      "City named \u001b[1mBangalore\u001b[0m have \u001b[1m844\u001b[0m number of Startup\n",
      "City named \u001b[1mMumbai\u001b[0m have \u001b[1m570\u001b[0m number of Startup\n",
      "City named \u001b[1mNew Delhi\u001b[0m have \u001b[1m460\u001b[0m number of Startup\n",
      "City named \u001b[1mGurgaon\u001b[0m have \u001b[1m336\u001b[0m number of Startup\n",
      "City named \u001b[1mPune\u001b[0m have \u001b[1m106\u001b[0m number of Startup\n"
     ]
    }
   ],
   "source": [
    "npcities = df['City  Location'].value_counts().reset_index().head(5)\n",
    "bold='\\033[1m'\n",
    "reset = '\\033[0m'\n",
    "city = npcities['index']\n",
    "startups = npcities['City  Location']\n",
    "my_dict2 = dict(zip(city,startups))\n",
    "for key, value in my_dict2.items():\n",
    "  print(f'City named {bold}{key}{reset} have {bold}{value}{reset} number of Startup')"
   ]
  },
  {
   "cell_type": "markdown",
   "id": "3aa60564",
   "metadata": {
    "id": "BUjaCtJBH4Ws",
    "papermill": {
     "duration": 0.045467,
     "end_time": "2023-08-09T08:52:31.439507",
     "exception": false,
     "start_time": "2023-08-09T08:52:31.394040",
     "status": "completed"
    },
    "tags": []
   },
   "source": [
    "**We can see that most of the startups belongs to cities [Banglore, Mumbai, New Delhi, Gurgaon, Pune], therefore it can be said that starting a Statrtup from these cities can play some role in reciving funding based on Physicological parameters**"
   ]
  },
  {
   "cell_type": "markdown",
   "id": "f4fcbd5f",
   "metadata": {
    "id": "7r3nDP6YIneE",
    "papermill": {
     "duration": 0.045114,
     "end_time": "2023-08-09T08:52:31.529752",
     "exception": false,
     "start_time": "2023-08-09T08:52:31.484638",
     "status": "completed"
    },
    "tags": []
   },
   "source": [
    "**12) Find top 10 Indian cities with most amount of fundings received.**"
   ]
  },
  {
   "cell_type": "code",
   "execution_count": 205,
   "id": "1fbbda32",
   "metadata": {
    "execution": {
     "iopub.execute_input": "2023-08-09T08:52:31.623175Z",
     "iopub.status.busy": "2023-08-09T08:52:31.622462Z",
     "iopub.status.idle": "2023-08-09T08:52:31.638566Z",
     "shell.execute_reply": "2023-08-09T08:52:31.637390Z"
    },
    "id": "Tbm9bkIIvfLE",
    "outputId": "4f08145e-1546-43fd-c11a-3c836f12146f",
    "papermill": {
     "duration": 0.065792,
     "end_time": "2023-08-09T08:52:31.640913",
     "exception": false,
     "start_time": "2023-08-09T08:52:31.575121",
     "status": "completed"
    },
    "tags": []
   },
   "outputs": [
    {
     "data": {
      "text/html": [
       "<div>\n",
       "<style scoped>\n",
       "    .dataframe tbody tr th:only-of-type {\n",
       "        vertical-align: middle;\n",
       "    }\n",
       "\n",
       "    .dataframe tbody tr th {\n",
       "        vertical-align: top;\n",
       "    }\n",
       "\n",
       "    .dataframe thead th {\n",
       "        text-align: right;\n",
       "    }\n",
       "</style>\n",
       "<table border=\"1\" class=\"dataframe\">\n",
       "  <thead>\n",
       "    <tr style=\"text-align: right;\">\n",
       "      <th></th>\n",
       "      <th>City  Location</th>\n",
       "      <th>Amount in USD</th>\n",
       "    </tr>\n",
       "  </thead>\n",
       "  <tbody>\n",
       "    <tr>\n",
       "      <th>0</th>\n",
       "      <td>Bangalore</td>\n",
       "      <td>1.848541e+10</td>\n",
       "    </tr>\n",
       "    <tr>\n",
       "      <th>1</th>\n",
       "      <td>Mumbai</td>\n",
       "      <td>4.927985e+09</td>\n",
       "    </tr>\n",
       "    <tr>\n",
       "      <th>2</th>\n",
       "      <td>Gurgaon</td>\n",
       "      <td>3.871229e+09</td>\n",
       "    </tr>\n",
       "    <tr>\n",
       "      <th>3</th>\n",
       "      <td>New Delhi</td>\n",
       "      <td>3.293272e+09</td>\n",
       "    </tr>\n",
       "    <tr>\n",
       "      <th>4</th>\n",
       "      <td>Noida</td>\n",
       "      <td>1.262864e+09</td>\n",
       "    </tr>\n",
       "    <tr>\n",
       "      <th>5</th>\n",
       "      <td>Chennai</td>\n",
       "      <td>7.187670e+08</td>\n",
       "    </tr>\n",
       "    <tr>\n",
       "      <th>6</th>\n",
       "      <td>Pune</td>\n",
       "      <td>6.480820e+08</td>\n",
       "    </tr>\n",
       "    <tr>\n",
       "      <th>7</th>\n",
       "      <td>Menlo Park</td>\n",
       "      <td>4.500000e+08</td>\n",
       "    </tr>\n",
       "    <tr>\n",
       "      <th>8</th>\n",
       "      <td>Hyderabad</td>\n",
       "      <td>4.016762e+08</td>\n",
       "    </tr>\n",
       "    <tr>\n",
       "      <th>9</th>\n",
       "      <td>India</td>\n",
       "      <td>3.195000e+08</td>\n",
       "    </tr>\n",
       "  </tbody>\n",
       "</table>\n",
       "</div>"
      ],
      "text/plain": [
       "  City  Location  Amount in USD\n",
       "0      Bangalore   1.848541e+10\n",
       "1         Mumbai   4.927985e+09\n",
       "2        Gurgaon   3.871229e+09\n",
       "3      New Delhi   3.293272e+09\n",
       "4          Noida   1.262864e+09\n",
       "5        Chennai   7.187670e+08\n",
       "6           Pune   6.480820e+08\n",
       "7     Menlo Park   4.500000e+08\n",
       "8      Hyderabad   4.016762e+08\n",
       "9          India   3.195000e+08"
      ]
     },
     "execution_count": 205,
     "metadata": {},
     "output_type": "execute_result"
    }
   ],
   "source": [
    "top_ten_city_funding = df.groupby('City  Location')['Amount in USD'].sum().sort_values(ascending=False).reset_index()\n",
    "top_ten_city_funding.head(10)"
   ]
  },
  {
   "cell_type": "code",
   "execution_count": 206,
   "id": "797e6105",
   "metadata": {
    "execution": {
     "iopub.execute_input": "2023-08-09T08:52:31.736102Z",
     "iopub.status.busy": "2023-08-09T08:52:31.735132Z",
     "iopub.status.idle": "2023-08-09T08:52:32.156395Z",
     "shell.execute_reply": "2023-08-09T08:52:32.155311Z"
    },
    "id": "GFxox7hNJV_k",
    "outputId": "cd50b75e-90bb-4af9-f9ed-0f2644351300",
    "papermill": {
     "duration": 0.471658,
     "end_time": "2023-08-09T08:52:32.158721",
     "exception": false,
     "start_time": "2023-08-09T08:52:31.687063",
     "status": "completed"
    },
    "tags": []
   },
   "outputs": [
    {
     "data": {
      "text/plain": [
       "Text(0.5, 1.0, '(Top 10)\\nTotal Funding/ City')"
      ]
     },
     "execution_count": 206,
     "metadata": {},
     "output_type": "execute_result"
    },
    {
     "data": {
      "image/png": "[encoded data removed]",
      "text/plain": [
       "<Figure size 432x288 with 1 Axes>"
      ]
     },
     "metadata": {
      "needs_background": "light"
     },
     "output_type": "display_data"
    }
   ],
   "source": [
    "sns.barplot(x='City  Location', y='Amount in USD',data=top_ten_city_funding.head(10), palette='plasma')\n",
    "plt.xticks(rotation=90)\n",
    "plt.ticklabel_format(style='plain', axis='y')\n",
    "plt.xlabel('City Name',fontsize=12)\n",
    "plt.ylabel('Total Amount(USD)', fontsize=12)\n",
    "plt.title('(Top 10)\\nTotal Funding/ City', fontsize=15)"
   ]
  },
  {
   "cell_type": "markdown",
   "id": "ef46c66b",
   "metadata": {
    "id": "-BCYniaecM3o",
    "papermill": {
     "duration": 0.04719,
     "end_time": "2023-08-09T08:52:32.252696",
     "exception": false,
     "start_time": "2023-08-09T08:52:32.205506",
     "status": "completed"
    },
    "tags": []
   },
   "source": [
    "**13) Find out percentage of funding each city has got (among top 10 Indian cities only).**\n",
    "\n"
   ]
  },
  {
   "cell_type": "code",
   "execution_count": 207,
   "id": "032fb875",
   "metadata": {
    "execution": {
     "iopub.execute_input": "2023-08-09T08:52:32.349557Z",
     "iopub.status.busy": "2023-08-09T08:52:32.348825Z",
     "iopub.status.idle": "2023-08-09T08:52:32.357683Z",
     "shell.execute_reply": "2023-08-09T08:52:32.356521Z"
    },
    "id": "6i1_YgMKvfIR",
    "outputId": "ecea4d54-54f0-417e-f0d9-713aa05cf491",
    "papermill": {
     "duration": 0.060409,
     "end_time": "2023-08-09T08:52:32.360215",
     "exception": false,
     "start_time": "2023-08-09T08:52:32.299806",
     "status": "completed"
    },
    "tags": []
   },
   "outputs": [
    {
     "data": {
      "text/plain": [
       "36800215996.22"
      ]
     },
     "execution_count": 207,
     "metadata": {},
     "output_type": "execute_result"
    }
   ],
   "source": [
    "#Finding Out total number of Funding Amount\n",
    "\n",
    "total_funding = df['Amount in USD'].sum()\n",
    "total_funding"
   ]
  },
  {
   "cell_type": "code",
   "execution_count": 208,
   "id": "7b87c71a",
   "metadata": {
    "execution": {
     "iopub.execute_input": "2023-08-09T08:52:32.457707Z",
     "iopub.status.busy": "2023-08-09T08:52:32.456850Z",
     "iopub.status.idle": "2023-08-09T08:52:32.473026Z",
     "shell.execute_reply": "2023-08-09T08:52:32.471991Z"
    },
    "id": "6CPPz39xvfFk",
    "outputId": "634d582b-02ae-44bb-e8ef-22768eca9b01",
    "papermill": {
     "duration": 0.067906,
     "end_time": "2023-08-09T08:52:32.475286",
     "exception": false,
     "start_time": "2023-08-09T08:52:32.407380",
     "status": "completed"
    },
    "tags": []
   },
   "outputs": [
    {
     "data": {
      "text/html": [
       "<div>\n",
       "<style scoped>\n",
       "    .dataframe tbody tr th:only-of-type {\n",
       "        vertical-align: middle;\n",
       "    }\n",
       "\n",
       "    .dataframe tbody tr th {\n",
       "        vertical-align: top;\n",
       "    }\n",
       "\n",
       "    .dataframe thead th {\n",
       "        text-align: right;\n",
       "    }\n",
       "</style>\n",
       "<table border=\"1\" class=\"dataframe\">\n",
       "  <thead>\n",
       "    <tr style=\"text-align: right;\">\n",
       "      <th></th>\n",
       "      <th>City_Name</th>\n",
       "      <th>Total_Funding_Received</th>\n",
       "      <th>Overall_Percentage_Weighted</th>\n",
       "    </tr>\n",
       "  </thead>\n",
       "  <tbody>\n",
       "    <tr>\n",
       "      <th>0</th>\n",
       "      <td>Bangalore</td>\n",
       "      <td>18485408863</td>\n",
       "      <td>50.231794</td>\n",
       "    </tr>\n",
       "    <tr>\n",
       "      <th>1</th>\n",
       "      <td>Mumbai</td>\n",
       "      <td>4927985015</td>\n",
       "      <td>13.391185</td>\n",
       "    </tr>\n",
       "    <tr>\n",
       "      <th>2</th>\n",
       "      <td>Gurgaon</td>\n",
       "      <td>3871228657</td>\n",
       "      <td>10.519581</td>\n",
       "    </tr>\n",
       "    <tr>\n",
       "      <th>3</th>\n",
       "      <td>New Delhi</td>\n",
       "      <td>3293271515</td>\n",
       "      <td>8.949055</td>\n",
       "    </tr>\n",
       "    <tr>\n",
       "      <th>4</th>\n",
       "      <td>Noida</td>\n",
       "      <td>1262864000</td>\n",
       "      <td>3.431676</td>\n",
       "    </tr>\n",
       "    <tr>\n",
       "      <th>5</th>\n",
       "      <td>Chennai</td>\n",
       "      <td>718767000</td>\n",
       "      <td>1.953160</td>\n",
       "    </tr>\n",
       "    <tr>\n",
       "      <th>6</th>\n",
       "      <td>Pune</td>\n",
       "      <td>648082000</td>\n",
       "      <td>1.761082</td>\n",
       "    </tr>\n",
       "    <tr>\n",
       "      <th>7</th>\n",
       "      <td>Menlo Park</td>\n",
       "      <td>450000000</td>\n",
       "      <td>1.222819</td>\n",
       "    </tr>\n",
       "    <tr>\n",
       "      <th>8</th>\n",
       "      <td>Hyderabad</td>\n",
       "      <td>401676230</td>\n",
       "      <td>1.091505</td>\n",
       "    </tr>\n",
       "    <tr>\n",
       "      <th>9</th>\n",
       "      <td>India</td>\n",
       "      <td>319500000</td>\n",
       "      <td>0.868201</td>\n",
       "    </tr>\n",
       "  </tbody>\n",
       "</table>\n",
       "</div>"
      ],
      "text/plain": [
       "    City_Name  Total_Funding_Received  Overall_Percentage_Weighted\n",
       "0   Bangalore             18485408863                    50.231794\n",
       "1      Mumbai              4927985015                    13.391185\n",
       "2     Gurgaon              3871228657                    10.519581\n",
       "3   New Delhi              3293271515                     8.949055\n",
       "4       Noida              1262864000                     3.431676\n",
       "5     Chennai               718767000                     1.953160\n",
       "6        Pune               648082000                     1.761082\n",
       "7  Menlo Park               450000000                     1.222819\n",
       "8   Hyderabad               401676230                     1.091505\n",
       "9       India               319500000                     0.868201"
      ]
     },
     "execution_count": 208,
     "metadata": {},
     "output_type": "execute_result"
    }
   ],
   "source": [
    "funding_table = pd.DataFrame(top_ten_city_funding.head(10))\n",
    "funding_table.columns = ['City_Name', 'Total_Funding_Received']\n",
    "funding_table['Total_Funding_Received'] = funding_table['Total_Funding_Received'].apply(lambda x:int(x))\n",
    "funding_table['Overall_Percentage_Weighted'] = (funding_table['Total_Funding_Received']/total_funding)*100\n",
    "funding_table"
   ]
  },
  {
   "cell_type": "markdown",
   "id": "9a1a0de4",
   "metadata": {
    "id": "Xv-LftC6cQ6w",
    "papermill": {
     "duration": 0.046789,
     "end_time": "2023-08-09T08:52:32.569353",
     "exception": false,
     "start_time": "2023-08-09T08:52:32.522564",
     "status": "completed"
    },
    "tags": []
   },
   "source": [
    "**14) Print the city and percentage with 2 decimal place after rounding off.**"
   ]
  },
  {
   "cell_type": "code",
   "execution_count": 209,
   "id": "a081c318",
   "metadata": {
    "execution": {
     "iopub.execute_input": "2023-08-09T08:52:32.666096Z",
     "iopub.status.busy": "2023-08-09T08:52:32.665072Z",
     "iopub.status.idle": "2023-08-09T08:52:32.678677Z",
     "shell.execute_reply": "2023-08-09T08:52:32.677627Z"
    },
    "id": "exG8p2zevfDB",
    "outputId": "1c207e85-d1de-4d1d-b82a-c130f6e141cb",
    "papermill": {
     "duration": 0.064074,
     "end_time": "2023-08-09T08:52:32.680844",
     "exception": false,
     "start_time": "2023-08-09T08:52:32.616770",
     "status": "completed"
    },
    "tags": []
   },
   "outputs": [
    {
     "data": {
      "text/html": [
       "<div>\n",
       "<style scoped>\n",
       "    .dataframe tbody tr th:only-of-type {\n",
       "        vertical-align: middle;\n",
       "    }\n",
       "\n",
       "    .dataframe tbody tr th {\n",
       "        vertical-align: top;\n",
       "    }\n",
       "\n",
       "    .dataframe thead th {\n",
       "        text-align: right;\n",
       "    }\n",
       "</style>\n",
       "<table border=\"1\" class=\"dataframe\">\n",
       "  <thead>\n",
       "    <tr style=\"text-align: right;\">\n",
       "      <th></th>\n",
       "      <th>City_Name</th>\n",
       "      <th>Total_Funding_Received</th>\n",
       "      <th>Overall_Percentage_Weighted</th>\n",
       "    </tr>\n",
       "  </thead>\n",
       "  <tbody>\n",
       "    <tr>\n",
       "      <th>0</th>\n",
       "      <td>Bangalore</td>\n",
       "      <td>18485408863</td>\n",
       "      <td>50.23%</td>\n",
       "    </tr>\n",
       "    <tr>\n",
       "      <th>1</th>\n",
       "      <td>Mumbai</td>\n",
       "      <td>4927985015</td>\n",
       "      <td>13.39%</td>\n",
       "    </tr>\n",
       "    <tr>\n",
       "      <th>2</th>\n",
       "      <td>Gurgaon</td>\n",
       "      <td>3871228657</td>\n",
       "      <td>10.52%</td>\n",
       "    </tr>\n",
       "    <tr>\n",
       "      <th>3</th>\n",
       "      <td>New Delhi</td>\n",
       "      <td>3293271515</td>\n",
       "      <td>8.95%</td>\n",
       "    </tr>\n",
       "    <tr>\n",
       "      <th>4</th>\n",
       "      <td>Noida</td>\n",
       "      <td>1262864000</td>\n",
       "      <td>3.43%</td>\n",
       "    </tr>\n",
       "    <tr>\n",
       "      <th>5</th>\n",
       "      <td>Chennai</td>\n",
       "      <td>718767000</td>\n",
       "      <td>1.95%</td>\n",
       "    </tr>\n",
       "    <tr>\n",
       "      <th>6</th>\n",
       "      <td>Pune</td>\n",
       "      <td>648082000</td>\n",
       "      <td>1.76%</td>\n",
       "    </tr>\n",
       "    <tr>\n",
       "      <th>7</th>\n",
       "      <td>Menlo Park</td>\n",
       "      <td>450000000</td>\n",
       "      <td>1.22%</td>\n",
       "    </tr>\n",
       "    <tr>\n",
       "      <th>8</th>\n",
       "      <td>Hyderabad</td>\n",
       "      <td>401676230</td>\n",
       "      <td>1.09%</td>\n",
       "    </tr>\n",
       "    <tr>\n",
       "      <th>9</th>\n",
       "      <td>India</td>\n",
       "      <td>319500000</td>\n",
       "      <td>0.87%</td>\n",
       "    </tr>\n",
       "  </tbody>\n",
       "</table>\n",
       "</div>"
      ],
      "text/plain": [
       "    City_Name  Total_Funding_Received Overall_Percentage_Weighted\n",
       "0   Bangalore             18485408863                      50.23%\n",
       "1      Mumbai              4927985015                      13.39%\n",
       "2     Gurgaon              3871228657                      10.52%\n",
       "3   New Delhi              3293271515                       8.95%\n",
       "4       Noida              1262864000                       3.43%\n",
       "5     Chennai               718767000                       1.95%\n",
       "6        Pune               648082000                       1.76%\n",
       "7  Menlo Park               450000000                       1.22%\n",
       "8   Hyderabad               401676230                       1.09%\n",
       "9       India               319500000                       0.87%"
      ]
     },
     "execution_count": 209,
     "metadata": {},
     "output_type": "execute_result"
    }
   ],
   "source": [
    "funding_table['Overall_Percentage_Weighted'] = ((funding_table['Total_Funding_Received']/total_funding)*100).round(2)\n",
    "funding_table['Overall_Percentage_Weighted'] = funding_table['Overall_Percentage_Weighted'].astype(str)+'%'\n",
    "funding_table"
   ]
  },
  {
   "cell_type": "markdown",
   "id": "08ca0f9e",
   "metadata": {
    "id": "XbtY31WHTrky",
    "papermill": {
     "duration": 0.053706,
     "end_time": "2023-08-09T08:52:36.052849",
     "exception": false,
     "start_time": "2023-08-09T08:52:35.999143",
     "status": "completed"
    },
    "tags": []
   },
   "source": [
    "**15) Which type of companies got more easily funding**"
   ]
  },
  {
   "cell_type": "code",
   "execution_count": 210,
   "id": "ec015dc6",
   "metadata": {
    "execution": {
     "iopub.execute_input": "2023-08-09T08:52:36.162301Z",
     "iopub.status.busy": "2023-08-09T08:52:36.161865Z",
     "iopub.status.idle": "2023-08-09T08:52:36.177399Z",
     "shell.execute_reply": "2023-08-09T08:52:36.176251Z"
    },
    "id": "PIC0Y_6CqUNx",
    "outputId": "bdeff17b-afaf-427f-d0d1-56b6d1e21a6d",
    "papermill": {
     "duration": 0.073284,
     "end_time": "2023-08-09T08:52:36.179635",
     "exception": false,
     "start_time": "2023-08-09T08:52:36.106351",
     "status": "completed"
    },
    "tags": []
   },
   "outputs": [
    {
     "data": {
      "text/html": [
       "<div>\n",
       "<style scoped>\n",
       "    .dataframe tbody tr th:only-of-type {\n",
       "        vertical-align: middle;\n",
       "    }\n",
       "\n",
       "    .dataframe tbody tr th {\n",
       "        vertical-align: top;\n",
       "    }\n",
       "\n",
       "    .dataframe thead th {\n",
       "        text-align: right;\n",
       "    }\n",
       "</style>\n",
       "<table border=\"1\" class=\"dataframe\">\n",
       "  <thead>\n",
       "    <tr style=\"text-align: right;\">\n",
       "      <th></th>\n",
       "      <th>Industry_type</th>\n",
       "      <th>Count</th>\n",
       "    </tr>\n",
       "  </thead>\n",
       "  <tbody>\n",
       "    <tr>\n",
       "      <th>1</th>\n",
       "      <td>Consumer Internet</td>\n",
       "      <td>935</td>\n",
       "    </tr>\n",
       "    <tr>\n",
       "      <th>2</th>\n",
       "      <td>Technology</td>\n",
       "      <td>478</td>\n",
       "    </tr>\n",
       "    <tr>\n",
       "      <th>3</th>\n",
       "      <td>Ecommerce</td>\n",
       "      <td>334</td>\n",
       "    </tr>\n",
       "    <tr>\n",
       "      <th>4</th>\n",
       "      <td>Healthcare</td>\n",
       "      <td>70</td>\n",
       "    </tr>\n",
       "    <tr>\n",
       "      <th>5</th>\n",
       "      <td>Finance</td>\n",
       "      <td>62</td>\n",
       "    </tr>\n",
       "  </tbody>\n",
       "</table>\n",
       "</div>"
      ],
      "text/plain": [
       "       Industry_type  Count\n",
       "1  Consumer Internet    935\n",
       "2         Technology    478\n",
       "3          Ecommerce    334\n",
       "4         Healthcare     70\n",
       "5            Finance     62"
      ]
     },
     "execution_count": 210,
     "metadata": {},
     "output_type": "execute_result"
    }
   ],
   "source": [
    "top_5_industry_by_count = df['Industry Vertical'].value_counts().sort_values(ascending=False).head(5).reset_index()\n",
    "top_5_industry_by_count.columns = ['Industry_type', 'Count']\n",
    "top_5_industry_by_count.index = np.arange(1,6)\n",
    "top_5_industry_by_count"
   ]
  },
  {
   "cell_type": "code",
   "execution_count": 211,
   "id": "3e754791",
   "metadata": {
    "execution": {
     "iopub.execute_input": "2023-08-09T08:52:36.288936Z",
     "iopub.status.busy": "2023-08-09T08:52:36.288186Z",
     "iopub.status.idle": "2023-08-09T08:52:36.569026Z",
     "shell.execute_reply": "2023-08-09T08:52:36.568163Z"
    },
    "id": "z1ma8M8mqUJ7",
    "outputId": "827560ec-bea9-4586-b28d-98a8bc2b67e3",
    "papermill": {
     "duration": 0.338045,
     "end_time": "2023-08-09T08:52:36.571327",
     "exception": false,
     "start_time": "2023-08-09T08:52:36.233282",
     "status": "completed"
    },
    "tags": []
   },
   "outputs": [
    {
     "data": {
      "text/plain": [
       "Text(0.5, 1.0, 'Top 5 Industry Type By Count\\nWhich get more easily Funding')"
      ]
     },
     "execution_count": 211,
     "metadata": {},
     "output_type": "execute_result"
    },
    {
     "data": {
      "image/png": "[encoded data removed]",
      "text/plain": [
       "<Figure size 432x288 with 1 Axes>"
      ]
     },
     "metadata": {
      "needs_background": "light"
     },
     "output_type": "display_data"
    }
   ],
   "source": [
    "sns.barplot(x='Industry_type',y='Count',data=top_5_industry_by_count, palette='hot')\n",
    "plt.xticks(rotation=90)\n",
    "plt.xlabel('Industry Type',fontsize=12)\n",
    "plt.ylabel('Count',fontsize=12)\n",
    "plt.title('Top 5 Industry Type By Count\\nWhich get more easily Funding',fontsize=15)"
   ]
  },
  {
   "cell_type": "markdown",
   "id": "697f37ae",
   "metadata": {
    "id": "zp6mTKP6VoMJ",
    "papermill": {
     "duration": 0.055169,
     "end_time": "2023-08-09T08:52:36.680942",
     "exception": false,
     "start_time": "2023-08-09T08:52:36.625773",
     "status": "completed"
    },
    "tags": []
   },
   "source": [
    "**16) Print the industry name and percentage of the amount funded with 2 decimal place after rounding off.**"
   ]
  },
  {
   "cell_type": "code",
   "execution_count": 212,
   "id": "582f2506",
   "metadata": {
    "execution": {
     "iopub.execute_input": "2023-08-09T08:52:36.792140Z",
     "iopub.status.busy": "2023-08-09T08:52:36.791101Z",
     "iopub.status.idle": "2023-08-09T08:52:36.809426Z",
     "shell.execute_reply": "2023-08-09T08:52:36.808649Z"
    },
    "id": "TNyR5zyYWEU8",
    "outputId": "5f3c50f9-f02a-4ece-f1f0-7d4ca32fd9d0",
    "papermill": {
     "duration": 0.075965,
     "end_time": "2023-08-09T08:52:36.811584",
     "exception": false,
     "start_time": "2023-08-09T08:52:36.735619",
     "status": "completed"
    },
    "tags": []
   },
   "outputs": [
    {
     "data": {
      "text/html": [
       "<div>\n",
       "<style scoped>\n",
       "    .dataframe tbody tr th:only-of-type {\n",
       "        vertical-align: middle;\n",
       "    }\n",
       "\n",
       "    .dataframe tbody tr th {\n",
       "        vertical-align: top;\n",
       "    }\n",
       "\n",
       "    .dataframe thead th {\n",
       "        text-align: right;\n",
       "    }\n",
       "</style>\n",
       "<table border=\"1\" class=\"dataframe\">\n",
       "  <thead>\n",
       "    <tr style=\"text-align: right;\">\n",
       "      <th></th>\n",
       "      <th>Industry Vertical</th>\n",
       "      <th>Amount in USD</th>\n",
       "      <th>Percentage_of_amt_funded</th>\n",
       "    </tr>\n",
       "  </thead>\n",
       "  <tbody>\n",
       "    <tr>\n",
       "      <th>167</th>\n",
       "      <td>Ecommerce</td>\n",
       "      <td>9.734520e+09</td>\n",
       "      <td>26.45%</td>\n",
       "    </tr>\n",
       "    <tr>\n",
       "      <th>107</th>\n",
       "      <td>Consumer Internet</td>\n",
       "      <td>6.253032e+09</td>\n",
       "      <td>16.99%</td>\n",
       "    </tr>\n",
       "    <tr>\n",
       "      <th>688</th>\n",
       "      <td>Transportation</td>\n",
       "      <td>3.916632e+09</td>\n",
       "      <td>10.64%</td>\n",
       "    </tr>\n",
       "    <tr>\n",
       "      <th>685</th>\n",
       "      <td>Technology</td>\n",
       "      <td>2.229708e+09</td>\n",
       "      <td>6.06%</td>\n",
       "    </tr>\n",
       "    <tr>\n",
       "      <th>212</th>\n",
       "      <td>Finance</td>\n",
       "      <td>1.971438e+09</td>\n",
       "      <td>5.36%</td>\n",
       "    </tr>\n",
       "  </tbody>\n",
       "</table>\n",
       "</div>"
      ],
      "text/plain": [
       "     Industry Vertical  Amount in USD Percentage_of_amt_funded\n",
       "167          Ecommerce   9.734520e+09                   26.45%\n",
       "107  Consumer Internet   6.253032e+09                   16.99%\n",
       "688     Transportation   3.916632e+09                   10.64%\n",
       "685         Technology   2.229708e+09                    6.06%\n",
       "212            Finance   1.971438e+09                    5.36%"
      ]
     },
     "execution_count": 212,
     "metadata": {},
     "output_type": "execute_result"
    }
   ],
   "source": [
    "top_5_industry_by_Funding = df.groupby('Industry Vertical')['Amount in USD'].sum().reset_index()\n",
    "top_5_industry_by_Funding = top_5_industry_by_Funding.sort_values(by='Amount in USD', ascending=False).head(5)\n",
    "top_5_industry_by_Funding['Percentage_of_amt_funded'] = ((top_5_industry_by_Funding['Amount in USD']/total_funding)*100).round(2).astype(str)+'%'\n",
    "top_5_industry_by_Funding\n",
    "\n",
    "\n"
   ]
  },
  {
   "cell_type": "code",
   "execution_count": 213,
   "id": "7706db79",
   "metadata": {
    "execution": {
     "iopub.execute_input": "2023-08-09T08:52:36.924245Z",
     "iopub.status.busy": "2023-08-09T08:52:36.923480Z",
     "iopub.status.idle": "2023-08-09T08:52:36.930372Z",
     "shell.execute_reply": "2023-08-09T08:52:36.929633Z"
    },
    "id": "MX2UYLDAqUHW",
    "outputId": "abc15d37-bef9-49f4-8cae-ddf7b772069a",
    "papermill": {
     "duration": 0.066276,
     "end_time": "2023-08-09T08:52:36.932833",
     "exception": false,
     "start_time": "2023-08-09T08:52:36.866557",
     "status": "completed"
    },
    "tags": []
   },
   "outputs": [
    {
     "name": "stdout",
     "output_type": "stream",
     "text": [
      "\u001b[1mGiven is the list of Top 5 Industry Type which holds most of the funding.\u001b[0m\n",
      "\u001b[1m=>\u001b[0mIndustry \u001b[1mEcommerce\u001b[0m holds \u001b[1m26.45%\u001b[0m of total funding.\n",
      "\u001b[1m=>\u001b[0mIndustry \u001b[1mConsumer Internet\u001b[0m holds \u001b[1m16.99%\u001b[0m of total funding.\n",
      "\u001b[1m=>\u001b[0mIndustry \u001b[1mTransportation\u001b[0m holds \u001b[1m10.64%\u001b[0m of total funding.\n",
      "\u001b[1m=>\u001b[0mIndustry \u001b[1mTechnology\u001b[0m holds \u001b[1m6.06%\u001b[0m of total funding.\n",
      "\u001b[1m=>\u001b[0mIndustry \u001b[1mFinance\u001b[0m holds \u001b[1m5.36%\u001b[0m of total funding.\n"
     ]
    }
   ],
   "source": [
    "bold='\\033[1m'\n",
    "reset='\\033[0m'\n",
    "ind_name = top_5_industry_by_Funding['Industry Vertical']\n",
    "per_fund = top_5_industry_by_Funding['Percentage_of_amt_funded']\n",
    "my_dict4 = dict(zip(ind_name, per_fund))\n",
    "print(f'{bold}Given is the list of Top 5 Industry Type which holds most of the funding.{reset}')\n",
    "for i, o in my_dict4.items():\n",
    "  print(f'{bold}=>{reset}Industry {bold}{i}{reset} holds {bold}{o}{reset} of total funding.')"
   ]
  },
  {
   "cell_type": "markdown",
   "id": "654c18c2",
   "metadata": {
    "id": "VPXw_LOoa8ob",
    "papermill": {
     "duration": 0.054482,
     "end_time": "2023-08-09T08:52:37.042536",
     "exception": false,
     "start_time": "2023-08-09T08:52:36.988054",
     "status": "completed"
    },
    "tags": []
   },
   "source": [
    "**Problem Statement :**\n",
    "\n",
    "20) Find top 5 startups with most amount of total funding.\n",
    "\n",
    "21) Print the startup name in descending order with respect to amount of funding.\n",
    "\n",
    "**Note:**\n",
    "Ola, Flipkart, Oyo, Paytm are important startups, so correct their names. There are many errors in startup names, ignore correcting all, just handle important ones.\n"
   ]
  },
  {
   "cell_type": "code",
   "execution_count": 214,
   "id": "8a52aca8",
   "metadata": {
    "execution": {
     "iopub.execute_input": "2023-08-09T08:52:37.155118Z",
     "iopub.status.busy": "2023-08-09T08:52:37.154071Z",
     "iopub.status.idle": "2023-08-09T08:52:37.171564Z",
     "shell.execute_reply": "2023-08-09T08:52:37.170431Z"
    },
    "id": "R5NcMbFHc7XK",
    "papermill": {
     "duration": 0.076544,
     "end_time": "2023-08-09T08:52:37.174259",
     "exception": false,
     "start_time": "2023-08-09T08:52:37.097715",
     "status": "completed"
    },
    "tags": []
   },
   "outputs": [],
   "source": [
    "#correcting some of the startups name\n",
    "\n",
    "df['Startup Name'] = df['Startup Name'].replace('\"BYJU\\\\\\\\\\'S\"','BYJU’S')\n",
    "df['Startup Name'] = df['Startup Name'].replace(\"'BYJU\\\\'S'\",\"BYJU’S\")\n",
    "df['Startup Name'] = df['Startup Name'].replace('BYJU\\\\\\\\xe2\\\\\\\\x80\\\\\\\\x99s','BYJU’S')\n",
    "df['Startup Name'] = df['Startup Name'].replace('Byju\\\\\\\\xe2\\\\\\\\x80\\\\\\\\x99s','BYJU’S')\n",
    "df['Startup Name'] = df['Startup Name'].replace('Flipkart.com','Flipkart')\n",
    "df['Startup Name'] = df['Startup Name'].replace('OYO Rooms','OYO')\n",
    "df['Startup Name'] = df['Startup Name'].replace('Oyo','OYO')\n",
    "df['Startup Name'] = df['Startup Name'].replace('Oyo Rooms','OYO')\n",
    "df['Startup Name'] = df['Startup Name'].replace('OyoRooms','OYO')\n",
    "df['Startup Name'] = df['Startup Name'].replace('Oyorooms','OYO')\n",
    "df['Startup Name'] = df['Startup Name'].replace('Ola Cabs','Ola')\n",
    "df['Startup Name'] = df['Startup Name'].replace('Olacabs','Ola')"
   ]
  },
  {
   "cell_type": "markdown",
   "id": "8baedce0",
   "metadata": {
    "id": "kOFpzQ6ggKfb",
    "papermill": {
     "duration": 0.055056,
     "end_time": "2023-08-09T08:52:37.284707",
     "exception": false,
     "start_time": "2023-08-09T08:52:37.229651",
     "status": "completed"
    },
    "tags": []
   },
   "source": [
    "**17) Find top 5 startups with most amount of total funding.**"
   ]
  },
  {
   "cell_type": "code",
   "execution_count": 215,
   "id": "79187d22",
   "metadata": {
    "execution": {
     "iopub.execute_input": "2023-08-09T08:52:37.398608Z",
     "iopub.status.busy": "2023-08-09T08:52:37.397803Z",
     "iopub.status.idle": "2023-08-09T08:52:37.415522Z",
     "shell.execute_reply": "2023-08-09T08:52:37.414730Z"
    },
    "id": "8YBtAiysbM2y",
    "outputId": "4632df7c-f458-4e13-cfd3-c4b205f4cf2f",
    "papermill": {
     "duration": 0.077839,
     "end_time": "2023-08-09T08:52:37.417624",
     "exception": false,
     "start_time": "2023-08-09T08:52:37.339785",
     "status": "completed"
    },
    "tags": []
   },
   "outputs": [
    {
     "data": {
      "text/html": [
       "<div>\n",
       "<style scoped>\n",
       "    .dataframe tbody tr th:only-of-type {\n",
       "        vertical-align: middle;\n",
       "    }\n",
       "\n",
       "    .dataframe tbody tr th {\n",
       "        vertical-align: top;\n",
       "    }\n",
       "\n",
       "    .dataframe thead th {\n",
       "        text-align: right;\n",
       "    }\n",
       "</style>\n",
       "<table border=\"1\" class=\"dataframe\">\n",
       "  <thead>\n",
       "    <tr style=\"text-align: right;\">\n",
       "      <th></th>\n",
       "      <th>Startup Name</th>\n",
       "      <th>Amount in USD</th>\n",
       "    </tr>\n",
       "  </thead>\n",
       "  <tbody>\n",
       "    <tr>\n",
       "      <th>0</th>\n",
       "      <td>Flipkart</td>\n",
       "      <td>4.759700e+09</td>\n",
       "    </tr>\n",
       "    <tr>\n",
       "      <th>1</th>\n",
       "      <td>Rapido Bike Taxi</td>\n",
       "      <td>3.900000e+09</td>\n",
       "    </tr>\n",
       "    <tr>\n",
       "      <th>2</th>\n",
       "      <td>Paytm</td>\n",
       "      <td>3.148950e+09</td>\n",
       "    </tr>\n",
       "    <tr>\n",
       "      <th>3</th>\n",
       "      <td>Ola</td>\n",
       "      <td>2.054200e+09</td>\n",
       "    </tr>\n",
       "    <tr>\n",
       "      <th>4</th>\n",
       "      <td>OYO</td>\n",
       "      <td>9.720000e+08</td>\n",
       "    </tr>\n",
       "  </tbody>\n",
       "</table>\n",
       "</div>"
      ],
      "text/plain": [
       "       Startup Name  Amount in USD\n",
       "0          Flipkart   4.759700e+09\n",
       "1  Rapido Bike Taxi   3.900000e+09\n",
       "2             Paytm   3.148950e+09\n",
       "3               Ola   2.054200e+09\n",
       "4               OYO   9.720000e+08"
      ]
     },
     "execution_count": 215,
     "metadata": {},
     "output_type": "execute_result"
    }
   ],
   "source": [
    "top_5_startup = df.groupby('Startup Name')['Amount in USD'].sum()\n",
    "top_5_startup.sort_values(ascending=False).reset_index().head(5)"
   ]
  },
  {
   "cell_type": "markdown",
   "id": "f4b6e676",
   "metadata": {
    "id": "AhWZe71phzIC",
    "papermill": {
     "duration": 0.053882,
     "end_time": "2023-08-09T08:52:37.526006",
     "exception": false,
     "start_time": "2023-08-09T08:52:37.472124",
     "status": "completed"
    },
    "tags": []
   },
   "source": [
    "**18) Print the startup name in descending order with respect to amount of funding.**"
   ]
  },
  {
   "cell_type": "code",
   "execution_count": 216,
   "id": "3a889c6b",
   "metadata": {
    "execution": {
     "iopub.execute_input": "2023-08-09T08:52:37.636760Z",
     "iopub.status.busy": "2023-08-09T08:52:37.635996Z",
     "iopub.status.idle": "2023-08-09T08:52:37.654550Z",
     "shell.execute_reply": "2023-08-09T08:52:37.653376Z"
    },
    "id": "s6qXJHt1hyfv",
    "outputId": "a8bce63d-7552-437a-8b5e-b4f1a6c72a15",
    "papermill": {
     "duration": 0.076794,
     "end_time": "2023-08-09T08:52:37.657008",
     "exception": false,
     "start_time": "2023-08-09T08:52:37.580214",
     "status": "completed"
    },
    "tags": []
   },
   "outputs": [
    {
     "data": {
      "text/html": [
       "<div>\n",
       "<style scoped>\n",
       "    .dataframe tbody tr th:only-of-type {\n",
       "        vertical-align: middle;\n",
       "    }\n",
       "\n",
       "    .dataframe tbody tr th {\n",
       "        vertical-align: top;\n",
       "    }\n",
       "\n",
       "    .dataframe thead th {\n",
       "        text-align: right;\n",
       "    }\n",
       "</style>\n",
       "<table border=\"1\" class=\"dataframe\">\n",
       "  <thead>\n",
       "    <tr style=\"text-align: right;\">\n",
       "      <th></th>\n",
       "      <th>Startup Name</th>\n",
       "      <th>Amount in USD</th>\n",
       "    </tr>\n",
       "  </thead>\n",
       "  <tbody>\n",
       "    <tr>\n",
       "      <th>0</th>\n",
       "      <td>Flipkart</td>\n",
       "      <td>4.759700e+09</td>\n",
       "    </tr>\n",
       "    <tr>\n",
       "      <th>1</th>\n",
       "      <td>Rapido Bike Taxi</td>\n",
       "      <td>3.900000e+09</td>\n",
       "    </tr>\n",
       "    <tr>\n",
       "      <th>2</th>\n",
       "      <td>Paytm</td>\n",
       "      <td>3.148950e+09</td>\n",
       "    </tr>\n",
       "    <tr>\n",
       "      <th>3</th>\n",
       "      <td>Ola</td>\n",
       "      <td>2.054200e+09</td>\n",
       "    </tr>\n",
       "    <tr>\n",
       "      <th>4</th>\n",
       "      <td>OYO</td>\n",
       "      <td>9.720000e+08</td>\n",
       "    </tr>\n",
       "  </tbody>\n",
       "</table>\n",
       "</div>"
      ],
      "text/plain": [
       "       Startup Name  Amount in USD\n",
       "0          Flipkart   4.759700e+09\n",
       "1  Rapido Bike Taxi   3.900000e+09\n",
       "2             Paytm   3.148950e+09\n",
       "3               Ola   2.054200e+09\n",
       "4               OYO   9.720000e+08"
      ]
     },
     "execution_count": 216,
     "metadata": {},
     "output_type": "execute_result"
    }
   ],
   "source": [
    "top_5_startup = df.groupby('Startup Name')['Amount in USD'].sum()\n",
    "top_5_startup = top_5_startup.sort_values(ascending=False).reset_index().head(5)\n",
    "top_5_startup"
   ]
  },
  {
   "cell_type": "markdown",
   "id": "c714c49a",
   "metadata": {
    "id": "8_ziqOFliJaD",
    "papermill": {
     "duration": 0.055267,
     "end_time": "2023-08-09T08:52:37.767949",
     "exception": false,
     "start_time": "2023-08-09T08:52:37.712682",
     "status": "completed"
    },
    "tags": []
   },
   "source": [
    "**Problem Statement :**\n",
    "\n",
    "22) Find the top 5 startups who received the most number of funding rounds. That means, startups which got fundings maximum number of times.\n",
    "\n",
    "\n",
    "23) Print the startup name in descending order with respect to the number of funding round as integer value.\n",
    "\n",
    "\n",
    "**Note:**\n",
    "Ola, Flipkart, Oyo, Paytm are important startups, so correct their names. There are many errors in startup names, ignore correcting all, just handle important ones.\n"
   ]
  },
  {
   "cell_type": "markdown",
   "id": "797c52a8",
   "metadata": {
    "id": "oVWIo1peiXn4",
    "papermill": {
     "duration": 0.056033,
     "end_time": "2023-08-09T08:52:37.879835",
     "exception": false,
     "start_time": "2023-08-09T08:52:37.823802",
     "status": "completed"
    },
    "tags": []
   },
   "source": [
    "**19) Find the top 5 startups who received the most number of funding rounds. That means, startups which got fundings maximum number of times.**"
   ]
  },
  {
   "cell_type": "code",
   "execution_count": 217,
   "id": "27114fef",
   "metadata": {
    "execution": {
     "iopub.execute_input": "2023-08-09T08:52:37.993554Z",
     "iopub.status.busy": "2023-08-09T08:52:37.993112Z",
     "iopub.status.idle": "2023-08-09T08:52:38.010319Z",
     "shell.execute_reply": "2023-08-09T08:52:38.009265Z"
    },
    "id": "QCGvOKGybMz3",
    "outputId": "0fbab5f8-4334-42fa-bb22-150f0e9248eb",
    "papermill": {
     "duration": 0.076759,
     "end_time": "2023-08-09T08:52:38.012829",
     "exception": false,
     "start_time": "2023-08-09T08:52:37.936070",
     "status": "completed"
    },
    "tags": []
   },
   "outputs": [
    {
     "data": {
      "text/html": [
       "<div>\n",
       "<style scoped>\n",
       "    .dataframe tbody tr th:only-of-type {\n",
       "        vertical-align: middle;\n",
       "    }\n",
       "\n",
       "    .dataframe tbody tr th {\n",
       "        vertical-align: top;\n",
       "    }\n",
       "\n",
       "    .dataframe thead th {\n",
       "        text-align: right;\n",
       "    }\n",
       "</style>\n",
       "<table border=\"1\" class=\"dataframe\">\n",
       "  <thead>\n",
       "    <tr style=\"text-align: right;\">\n",
       "      <th></th>\n",
       "      <th>Startup Name</th>\n",
       "      <th>Amount in USD</th>\n",
       "    </tr>\n",
       "  </thead>\n",
       "  <tbody>\n",
       "    <tr>\n",
       "      <th>0</th>\n",
       "      <td>Ola</td>\n",
       "      <td>13</td>\n",
       "    </tr>\n",
       "    <tr>\n",
       "      <th>1</th>\n",
       "      <td>Swiggy</td>\n",
       "      <td>8</td>\n",
       "    </tr>\n",
       "    <tr>\n",
       "      <th>2</th>\n",
       "      <td>OYO</td>\n",
       "      <td>8</td>\n",
       "    </tr>\n",
       "    <tr>\n",
       "      <th>3</th>\n",
       "      <td>BYJU’S</td>\n",
       "      <td>7</td>\n",
       "    </tr>\n",
       "    <tr>\n",
       "      <th>4</th>\n",
       "      <td>Flipkart</td>\n",
       "      <td>6</td>\n",
       "    </tr>\n",
       "  </tbody>\n",
       "</table>\n",
       "</div>"
      ],
      "text/plain": [
       "  Startup Name  Amount in USD\n",
       "0          Ola             13\n",
       "1       Swiggy              8\n",
       "2          OYO              8\n",
       "3       BYJU’S              7\n",
       "4     Flipkart              6"
      ]
     },
     "execution_count": 217,
     "metadata": {},
     "output_type": "execute_result"
    }
   ],
   "source": [
    "top_5_startup_rounds = df.groupby('Startup Name')['Amount in USD'].count()\n",
    "top_5_startup_rounds = top_5_startup_rounds.sort_values(ascending=False).reset_index().head(5)\n",
    "top_5_startup_rounds"
   ]
  },
  {
   "cell_type": "markdown",
   "id": "0e2785d6",
   "metadata": {
    "id": "ggnSBZp7j67v",
    "papermill": {
     "duration": 0.056114,
     "end_time": "2023-08-09T08:52:38.124905",
     "exception": false,
     "start_time": "2023-08-09T08:52:38.068791",
     "status": "completed"
    },
    "tags": []
   },
   "source": [
    "**20) Print the startup name in descending order with respect to the number of funding round as integer value.**"
   ]
  },
  {
   "cell_type": "code",
   "execution_count": 218,
   "id": "53e12b63",
   "metadata": {
    "execution": {
     "iopub.execute_input": "2023-08-09T08:52:38.242555Z",
     "iopub.status.busy": "2023-08-09T08:52:38.241074Z",
     "iopub.status.idle": "2023-08-09T08:52:38.251865Z",
     "shell.execute_reply": "2023-08-09T08:52:38.250461Z"
    },
    "id": "yzRH28OobMrS",
    "outputId": "8d5bfc15-4a24-43dd-a695-4a83fdfe0a2d",
    "papermill": {
     "duration": 0.073738,
     "end_time": "2023-08-09T08:52:38.254355",
     "exception": false,
     "start_time": "2023-08-09T08:52:38.180617",
     "status": "completed"
    },
    "tags": []
   },
   "outputs": [
    {
     "name": "stdout",
     "output_type": "stream",
     "text": [
      "\u001b[1mStartup name in descending order with respect to the number of funding round as integer value --\u001b[0m\n",
      "\u001b[1m=>\u001b[0mStartup name \u001b[1mOla\u001b[0m have recived funding \u001b[1m13\u001b[0m number of times.\n",
      "\u001b[1m=>\u001b[0mStartup name \u001b[1mSwiggy\u001b[0m have recived funding \u001b[1m8\u001b[0m number of times.\n",
      "\u001b[1m=>\u001b[0mStartup name \u001b[1mOYO\u001b[0m have recived funding \u001b[1m8\u001b[0m number of times.\n",
      "\u001b[1m=>\u001b[0mStartup name \u001b[1mBYJU’S\u001b[0m have recived funding \u001b[1m7\u001b[0m number of times.\n",
      "\u001b[1m=>\u001b[0mStartup name \u001b[1mFlipkart\u001b[0m have recived funding \u001b[1m6\u001b[0m number of times.\n"
     ]
    }
   ],
   "source": [
    "bold='\\033[1m'\n",
    "reset='\\033[0m'\n",
    "st = top_5_startup_rounds['Startup Name']\n",
    "am = top_5_startup_rounds['Amount in USD']\n",
    "my_dict5 = dict(zip(st, am))\n",
    "print(f'{bold}Startup name in descending order with respect to the number of funding round as integer value --{reset}')\n",
    "for t, y in my_dict5.items():\n",
    "  print(f'{bold}=>{reset}Startup name {bold}{t}{reset} have recived funding {bold}{y}{reset} number of times.')"
   ]
  }
 ],
 "metadata": {
  "kernelspec": {
   "display_name": "Python 3 (ipykernel)",
   "language": "python",
   "name": "python3"
  },
  "language_info": {
   "codemirror_mode": {
    "name": "ipython",
    "version": 3
   },
   "file_extension": ".py",
   "mimetype": "text/x-python",
   "name": "python",
   "nbconvert_exporter": "python",
   "pygments_lexer": "ipython3",
   "version": "3.9.7"
  },
  "papermill": {
   "default_parameters": {},
   "duration": 31.179149,
   "end_time": "2023-08-09T08:52:39.736468",
   "environment_variables": {},
   "exception": null,
   "input_path": "__notebook__.ipynb",
   "output_path": "__notebook__.ipynb",
   "parameters": {},
   "start_time": "2023-08-09T08:52:08.557319",
   "version": "2.4.0"
  }
 },
 "nbformat": 4,
 "nbformat_minor": 5
}
